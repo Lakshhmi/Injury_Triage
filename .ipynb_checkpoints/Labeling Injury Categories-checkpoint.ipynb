{
 "cells": [
  {
   "cell_type": "code",
   "execution_count": 88,
   "id": "73f5a55e",
   "metadata": {},
   "outputs": [],
   "source": [
    "import os\n",
    "import random\n",
    "import re\n",
    "import string\n",
    "\n",
    "import nltk\n",
    "import numpy as np\n",
    "import pandas as pd\n",
    "\n",
    "import gensim\n",
    "from gensim.models import Word2Vec, KeyedVectors\n",
    "\n",
    "from nltk import word_tokenize\n",
    "from nltk.corpus import stopwords\n",
    "import spacy\n",
    "\n",
    "nlp = spacy.load('en_core_web_lg')\n",
    "#nltk.download(\"stopwords\")"
   ]
  },
  {
   "cell_type": "code",
   "execution_count": 89,
   "id": "e74e1889",
   "metadata": {},
   "outputs": [],
   "source": [
    "#!pip install gensim\n",
    "#!pip install --upgrade pip"
   ]
  },
  {
   "cell_type": "code",
   "execution_count": 90,
   "id": "766c61bf",
   "metadata": {},
   "outputs": [],
   "source": [
    "df_raw=pd.read_excel(\"Injury Triage 2022.xlsx\")"
   ]
  },
  {
   "cell_type": "code",
   "execution_count": 91,
   "id": "6daeb06d",
   "metadata": {},
   "outputs": [],
   "source": [
    "def clean_text(text, tokenizer, stopwords):\n",
    "    \"\"\"Pre-process text and generate tokens\n",
    "\n",
    "    Args:\n",
    "        text: Text to tokenize.\n",
    "\n",
    "    Returns:\n",
    "        Tokenized text.\n",
    "    \"\"\"\n",
    "    text = str(text).lower()  # Lowercase words\n",
    "    text = re.sub(r\"\\[(.*?)\\]\", \"\", text)  # Remove [+XYZ chars] in content\n",
    "    text = re.sub(r\"\\s+\", \" \", text)  # Remove multiple spaces in content\n",
    "    text = re.sub(r\"\\w+…|…\", \"\", text)  # Remove ellipsis (and last word)\n",
    "    text = re.sub(r\"(?<=\\w)-(?=\\w)\", \" \", text)  # Replace dash between words\n",
    "    text = re.sub(f\"[{re.escape(string.punctuation)}]\", \"\", text)  # Remove punctuation\n",
    "\n",
    "    tokens = tokenizer(text)  # Get tokens from text\n",
    "    tokens = [t for t in tokens if not t in stopwords]  # Remove stopwords\n",
    "    tokens = [\"\" if t.isdigit() else t for t in tokens]  # Remove digits\n",
    "    tokens = [t for t in tokens if len(t) > 1]  # Remove short tokens\n",
    "    return tokens"
   ]
  },
  {
   "cell_type": "code",
   "execution_count": 92,
   "id": "d346a1a6",
   "metadata": {},
   "outputs": [
    {
     "name": "stdout",
     "output_type": "stream",
     "text": [
      "Original dataframe: (720, 19)\n",
      "Pre-processed dataframe: (720, 2)\n"
     ]
    }
   ],
   "source": [
    "custom_stopwords = set(stopwords.words(\"english\"))\n",
    "#text_columns = [\"title\", \"description\", \"content\"]\n",
    "\n",
    "df = df_raw.copy()\n",
    "# df[\"content\"] = df[\"content\"].fillna(\"\")\n",
    "\n",
    "# for col in text_columns:\n",
    "#     df[col] = df[col].astype(str)\n",
    "\n",
    "# Create text column based on title, description, and content\n",
    "#df[\"text\"] = df[text_columns].apply(lambda x: \" | \".join(x), axis=1)\n",
    "df[\"tokens\"] = df[\"Description of Event\"].map(lambda x: clean_text(x, word_tokenize, custom_stopwords))\n",
    "\n",
    "# Remove duplicated after preprocessing\n",
    "_, idx = np.unique(df[\"tokens\"], return_index=True)\n",
    "df = df.iloc[idx, :]\n",
    "\n",
    "# Remove empty values and keep relevant columns\n",
    "df = df.loc[df.tokens.map(lambda x: len(x) > 0), [\"Description of Event\", \"tokens\"]]\n",
    "\n",
    "docs = df[\"Description of Event\"].values\n",
    "tokenized_docs = df[\"tokens\"].values\n",
    "\n",
    "print(f\"Original dataframe: {df_raw.shape}\")\n",
    "print(f\"Pre-processed dataframe: {df.shape}\")"
   ]
  },
  {
   "cell_type": "code",
   "execution_count": 60,
   "id": "fb50c710",
   "metadata": {},
   "outputs": [],
   "source": [
    "pd.set_option('display.max_colwidth',None)"
   ]
  },
  {
   "cell_type": "code",
   "execution_count": 93,
   "id": "7750ea4a",
   "metadata": {},
   "outputs": [
    {
     "data": {
      "text/html": [
       "<div>\n",
       "<style scoped>\n",
       "    .dataframe tbody tr th:only-of-type {\n",
       "        vertical-align: middle;\n",
       "    }\n",
       "\n",
       "    .dataframe tbody tr th {\n",
       "        vertical-align: top;\n",
       "    }\n",
       "\n",
       "    .dataframe thead th {\n",
       "        text-align: right;\n",
       "    }\n",
       "</style>\n",
       "<table border=\"1\" class=\"dataframe\">\n",
       "  <thead>\n",
       "    <tr style=\"text-align: right;\">\n",
       "      <th></th>\n",
       "      <th>Description of Event</th>\n",
       "      <th>tokens</th>\n",
       "    </tr>\n",
       "  </thead>\n",
       "  <tbody>\n",
       "    <tr>\n",
       "      <th>301</th>\n",
       "      <td>AT 12:10pm EE checked in pax with tote/toolbox weighing 92lbs. EE marked the bag with two heavy tags. EE asked for assistance from another agent, to lift the heavy bag on to the ticket counter bag belt. EE stood with his left side closest to the belt. Together with the other agent, he lifted the bag with two hands moving the bag across his body from right to left. As EE moved the bag across his body, he heard a “pop” and immediately felt pain.</td>\n",
       "      <td>[1210pm, ee, checked, pax, totetoolbox, weighing, 92lbs, ee, marked, bag, two, heavy, tags, ee, asked, assistance, another, agent, lift, heavy, bag, ticket, counter, bag, belt, ee, stood, left, side, closest, belt, together, agent, lifted, bag, two, hands, moving, bag, across, body, right, left, ee, moved, bag, across, body, heard, pop, immediately, felt, pain]</td>\n",
       "    </tr>\n",
       "    <tr>\n",
       "      <th>157</th>\n",
       "      <td>On 14JAN22, Katy parked the Porsche at gate 37 to greet a passenger off DL3851 PDX-LAX.  She parked at the left tail side of the aircraft with the rear of the Porsche facing south.  After parking, ERMC arrived and backed up to ship 252 to service the lavatories.  At approximately 1027p Katy and the passenger returned to the Porsche.  The passenger got into the car and Katy proceeded to load the luggage into the trunk.  As she was closing the trunk, the ABM lavatory service driver begins to pull away.  Katy gets pushed up onto the side of the Porsche by the still connected lavatory service hose.  She quickly pulls it away enough to get under it.  Then proceeds to waive down the driver to stop.</td>\n",
       "      <td>[14jan22, katy, parked, porsche, gate, greet, passenger, dl3851, pdx, lax, parked, left, tail, side, aircraft, rear, porsche, facing, south, parking, ermc, arrived, backed, ship, service, lavatories, approximately, 1027p, katy, passenger, returned, porsche, passenger, got, car, katy, proceeded, load, luggage, trunk, closing, trunk, abm, lavatory, service, driver, begins, pull, away, katy, gets, pushed, onto, side, porsche, still, connected, lavatory, service, hose, quickly, pulls, away, enough, get, proceeds, waive, driver, stop]</td>\n",
       "    </tr>\n",
       "    <tr>\n",
       "      <th>662</th>\n",
       "      <td>advised Josephine Calautti informed me this morning her left foot was slightly swollen and the bottom of her heel is in pain. The direct cause of this injury is unknown to employee as it was not contributed to any type of twisting or of that nature. On 06/18 @ approx. 11a Josephine was walking down the jet bridge on gate 21 when she felt sharp pains on the bottom of her heel through to her Achilles. This morning her lower left ankle became slightly swollen and she was hurting while putting pressure on heel while walking.</td>\n",
       "      <td>[advised, josephine, calautti, informed, morning, left, foot, slightly, swollen, bottom, heel, pain, direct, cause, injury, unknown, employee, contributed, type, twisting, nature, approx, 11a, josephine, walking, jet, bridge, gate, felt, sharp, pains, bottom, heel, achilles, morning, lower, left, ankle, became, slightly, swollen, hurting, putting, pressure, heel, walking]</td>\n",
       "    </tr>\n",
       "    <tr>\n",
       "      <th>495</th>\n",
       "      <td>Agent was assisting in lifting aisle chair with heavy passenger over the aircraft lip of door onto the jet bridge.  She felt pain down her mid to lower back.</td>\n",
       "      <td>[agent, assisting, lifting, aisle, chair, heavy, passenger, aircraft, lip, door, onto, jet, bridge, felt, pain, mid, lower, back]</td>\n",
       "    </tr>\n",
       "    <tr>\n",
       "      <th>4</th>\n",
       "      <td>Agent was assisting a passenger deplaning from remote ops spot 5C, he climbed up the steps and stopped at the second step to retrieve carry on item from passenger and he walked down the steps backwards. When he stepped down he felt his left ankle slightly roll but felt no pain. He continued working and clocked out  at 2230. He woke up this morning (23NOV) and felt a sharp pain starting from his ankle bone shooting up his leg and his ankle was swollen as well. He is also limping as he walks</td>\n",
       "      <td>[agent, assisting, passenger, deplaning, remote, ops, spot, 5c, climbed, steps, stopped, second, step, retrieve, carry, item, passenger, walked, steps, backwards, stepped, felt, left, ankle, slightly, roll, felt, pain, continued, working, clocked, woke, morning, 23nov, felt, sharp, pain, starting, ankle, bone, shooting, leg, ankle, swollen, well, also, limping, walks]</td>\n",
       "    </tr>\n",
       "  </tbody>\n",
       "</table>\n",
       "</div>"
      ],
      "text/plain": [
       "                                                                                                                                                                                                                                                                                                                                                                                                                                                                                                                                                                                                                                                                                                              Description of Event  \\\n",
       "301                                                                                                                                                                                                                                                                AT 12:10pm EE checked in pax with tote/toolbox weighing 92lbs. EE marked the bag with two heavy tags. EE asked for assistance from another agent, to lift the heavy bag on to the ticket counter bag belt. EE stood with his left side closest to the belt. Together with the other agent, he lifted the bag with two hands moving the bag across his body from right to left. As EE moved the bag across his body, he heard a “pop” and immediately felt pain.   \n",
       "157  On 14JAN22, Katy parked the Porsche at gate 37 to greet a passenger off DL3851 PDX-LAX.  She parked at the left tail side of the aircraft with the rear of the Porsche facing south.  After parking, ERMC arrived and backed up to ship 252 to service the lavatories.  At approximately 1027p Katy and the passenger returned to the Porsche.  The passenger got into the car and Katy proceeded to load the luggage into the trunk.  As she was closing the trunk, the ABM lavatory service driver begins to pull away.  Katy gets pushed up onto the side of the Porsche by the still connected lavatory service hose.  She quickly pulls it away enough to get under it.  Then proceeds to waive down the driver to stop.   \n",
       "662                                                                                                                                                                                 advised Josephine Calautti informed me this morning her left foot was slightly swollen and the bottom of her heel is in pain. The direct cause of this injury is unknown to employee as it was not contributed to any type of twisting or of that nature. On 06/18 @ approx. 11a Josephine was walking down the jet bridge on gate 21 when she felt sharp pains on the bottom of her heel through to her Achilles. This morning her lower left ankle became slightly swollen and she was hurting while putting pressure on heel while walking.   \n",
       "495                                                                                                                                                                                                                                                                                                                                                                                                                                                                                                                                                                  Agent was assisting in lifting aisle chair with heavy passenger over the aircraft lip of door onto the jet bridge.  She felt pain down her mid to lower back.   \n",
       "4                                                                                                                                                                                                                   Agent was assisting a passenger deplaning from remote ops spot 5C, he climbed up the steps and stopped at the second step to retrieve carry on item from passenger and he walked down the steps backwards. When he stepped down he felt his left ankle slightly roll but felt no pain. He continued working and clocked out  at 2230. He woke up this morning (23NOV) and felt a sharp pain starting from his ankle bone shooting up his leg and his ankle was swollen as well. He is also limping as he walks   \n",
       "\n",
       "                                                                                                                                                                                                                                                                                                                                                                                                                                                                                                                                                      tokens  \n",
       "301                                                                                                                                                                              [1210pm, ee, checked, pax, totetoolbox, weighing, 92lbs, ee, marked, bag, two, heavy, tags, ee, asked, assistance, another, agent, lift, heavy, bag, ticket, counter, bag, belt, ee, stood, left, side, closest, belt, together, agent, lifted, bag, two, hands, moving, bag, across, body, right, left, ee, moved, bag, across, body, heard, pop, immediately, felt, pain]  \n",
       "157  [14jan22, katy, parked, porsche, gate, greet, passenger, dl3851, pdx, lax, parked, left, tail, side, aircraft, rear, porsche, facing, south, parking, ermc, arrived, backed, ship, service, lavatories, approximately, 1027p, katy, passenger, returned, porsche, passenger, got, car, katy, proceeded, load, luggage, trunk, closing, trunk, abm, lavatory, service, driver, begins, pull, away, katy, gets, pushed, onto, side, porsche, still, connected, lavatory, service, hose, quickly, pulls, away, enough, get, proceeds, waive, driver, stop]  \n",
       "662                                                                                                                                                                   [advised, josephine, calautti, informed, morning, left, foot, slightly, swollen, bottom, heel, pain, direct, cause, injury, unknown, employee, contributed, type, twisting, nature, approx, 11a, josephine, walking, jet, bridge, gate, felt, sharp, pains, bottom, heel, achilles, morning, lower, left, ankle, became, slightly, swollen, hurting, putting, pressure, heel, walking]  \n",
       "495                                                                                                                                                                                                                                                                                                                                                                                                                        [agent, assisting, lifting, aisle, chair, heavy, passenger, aircraft, lip, door, onto, jet, bridge, felt, pain, mid, lower, back]  \n",
       "4                                                                                                                                                                         [agent, assisting, passenger, deplaning, remote, ops, spot, 5c, climbed, steps, stopped, second, step, retrieve, carry, item, passenger, walked, steps, backwards, stepped, felt, left, ankle, slightly, roll, felt, pain, continued, working, clocked, woke, morning, 23nov, felt, sharp, pain, starting, ankle, bone, shooting, leg, ankle, swollen, well, also, limping, walks]  "
      ]
     },
     "execution_count": 93,
     "metadata": {},
     "output_type": "execute_result"
    }
   ],
   "source": [
    "df.head()"
   ]
  },
  {
   "cell_type": "code",
   "execution_count": 81,
   "id": "debc85b2",
   "metadata": {},
   "outputs": [],
   "source": [
    "#print(gensim.utils.simple_preprocess(\"AT 12:10pm EE checked in pax with tote/toolbox weighing 92lbs. EE marked the bag with two heavy tags. EE asked for assistance from another agent, to lift the heavy bag on to the ticket counter bag belt. EE stood with his left side closest to the belt. Together with the other agent, he lifted the bag with two hands moving the bag across his body from right to left. As EE moved the bag across his body, he heard a pop and immediately felt pain.\"))"
   ]
  },
  {
   "cell_type": "code",
   "execution_count": null,
   "id": "2beef217",
   "metadata": {},
   "outputs": [],
   "source": [
    "df['text'] = df['text'].str.replace(r'\\W', ' ', case = False)\n",
    "df['text'] = df['text'].str.replace(r'[.,?<>-]', '')"
   ]
  },
  {
   "cell_type": "code",
   "execution_count": 97,
   "id": "f56b605b",
   "metadata": {},
   "outputs": [],
   "source": [
    "model = Word2Vec(sentences=tokenized_docs, vector_size=300, workers=1)\n",
    "#wv = api.load('word2vec-google-news-300')\n",
    "model.build_vocab(tokenized_docs, progress_per=1000)\n",
    "#model = KeyedVectors.load_word2vec_format=('word2vec-google-news-300')"
   ]
  },
  {
   "cell_type": "code",
   "execution_count": 98,
   "id": "1424ed7b",
   "metadata": {},
   "outputs": [],
   "source": [
    "def vectorize(list_of_docs, model):\n",
    "    \"\"\"Generate vectors for list of documents using a Word Embedding\n",
    "\n",
    "    Args:\n",
    "        list_of_docs: List of documents\n",
    "        model: Gensim's Word Embedding\n",
    "\n",
    "    Returns:\n",
    "        List of document vectors\n",
    "    \"\"\"\n",
    "    features = []\n",
    "\n",
    "    for tokens in list_of_docs:\n",
    "        zero_vector = np.zeros(model.vector_size)\n",
    "        vectors = []\n",
    "        for token in tokens:\n",
    "            if token in model.wv:\n",
    "                try:\n",
    "                    vectors.append(model.wv[token])\n",
    "                except KeyError:\n",
    "                    continue\n",
    "        if vectors:\n",
    "            vectors = np.asarray(vectors)\n",
    "            avg_vec = vectors.mean(axis=0)\n",
    "            features.append(avg_vec)\n",
    "        else:\n",
    "            features.append(zero_vector)\n",
    "    return features    \n"
   ]
  },
  {
   "cell_type": "code",
   "execution_count": 99,
   "id": "d5d33222",
   "metadata": {},
   "outputs": [
    {
     "data": {
      "text/plain": [
       "(720, 300)"
      ]
     },
     "execution_count": 99,
     "metadata": {},
     "output_type": "execute_result"
    }
   ],
   "source": [
    "vectorized_docs = vectorize(tokenized_docs, model=model)\n",
    "len(vectorized_docs), len(vectorized_docs[0])"
   ]
  },
  {
   "cell_type": "code",
   "execution_count": 100,
   "id": "78dbc792",
   "metadata": {},
   "outputs": [],
   "source": [
    "df[\"vectorized_docs\"] =vectorized_docs"
   ]
  },
  {
   "cell_type": "code",
   "execution_count": 101,
   "id": "369f5e92",
   "metadata": {},
   "outputs": [],
   "source": [
    "#model.similarity(w1=\"slip\",w2=\"fall\")"
   ]
  },
  {
   "cell_type": "code",
   "execution_count": 102,
   "id": "727582a9",
   "metadata": {},
   "outputs": [
    {
     "data": {
      "text/html": [
       "<div>\n",
       "<style scoped>\n",
       "    .dataframe tbody tr th:only-of-type {\n",
       "        vertical-align: middle;\n",
       "    }\n",
       "\n",
       "    .dataframe tbody tr th {\n",
       "        vertical-align: top;\n",
       "    }\n",
       "\n",
       "    .dataframe thead th {\n",
       "        text-align: right;\n",
       "    }\n",
       "</style>\n",
       "<table border=\"1\" class=\"dataframe\">\n",
       "  <thead>\n",
       "    <tr style=\"text-align: right;\">\n",
       "      <th></th>\n",
       "      <th>Description of Event</th>\n",
       "      <th>tokens</th>\n",
       "      <th>vectorized_docs</th>\n",
       "    </tr>\n",
       "  </thead>\n",
       "  <tbody>\n",
       "    <tr>\n",
       "      <th>301</th>\n",
       "      <td>AT 12:10pm EE checked in pax with tote/toolbox weighing 92lbs. EE marked the bag with two heavy tags. EE asked for assistance from another agent, to lift the heavy bag on to the ticket counter bag belt. EE stood with his left side closest to the belt. Together with the other agent, he lifted the bag with two hands moving the bag across his body from right to left. As EE moved the bag across his body, he heard a “pop” and immediately felt pain.</td>\n",
       "      <td>[1210pm, ee, checked, pax, totetoolbox, weighing, 92lbs, ee, marked, bag, two, heavy, tags, ee, asked, assistance, another, agent, lift, heavy, bag, ticket, counter, bag, belt, ee, stood, left, side, closest, belt, together, agent, lifted, bag, two, hands, moving, bag, across, body, right, left, ee, moved, bag, across, body, heard, pop, immediately, felt, pain]</td>\n",
       "      <td>[0.02078223, 0.28733596, 0.040639326, 0.14662439, 0.053288974, -0.23149274, 0.1421007, 0.5295764, 0.08089438, -0.105023816, 0.008849435, -0.32476515, 0.06760511, -0.123851515, -0.11228678, -0.18282238, 0.15936929, 0.045607127, 0.0934885, -0.014152064, -0.17246228, 0.0772793, 0.16892964, 0.06377067, 0.022525078, -0.0154312365, -0.34821892, 0.056510925, -0.16030723, -0.19473821, 0.06710984, -0.18251911, 0.07434252, -0.059736427, -0.07203949, 0.16165294, 0.055306293, -0.3178666, -0.12057288, 0.09298358, -0.101624966, 0.09543545, -0.055783104, -0.14444922, 0.20872512, 0.25495723, 0.06222806, 0.0071749776, -0.01998309, 0.15665336, 0.067331165, -0.013482443, -0.12223459, 0.06347043, -0.027874587, 0.23429559, 0.004018198, -0.112019174, 0.047091495, -0.006398526, -0.034146193, -0.08964167, 0.002964169, 0.047649346, -0.025708806, 0.09972803, -0.056284558, -0.0042402847, -0.11530547, -0.15914607, -0.037736095, 0.08804078, 0.30009148, -0.18848133, -0.043457553, 0.16498247, -0.30944487, 0.099162765, -0.08905923, 0.18599838, -0.2031958, -0.20715837, 0.08662451, 0.42640746, 0.055079065, -0.0001251785, -0.31122673, 0.056625664, 0.2427255, 0.14296466, 0.31089833, -0.14139344, 0.15720321, 0.000899923, 0.114472345, 0.2605898, 0.24237971, -0.011944372, -0.06241723, 0.15385789, ...]</td>\n",
       "    </tr>\n",
       "    <tr>\n",
       "      <th>157</th>\n",
       "      <td>On 14JAN22, Katy parked the Porsche at gate 37 to greet a passenger off DL3851 PDX-LAX.  She parked at the left tail side of the aircraft with the rear of the Porsche facing south.  After parking, ERMC arrived and backed up to ship 252 to service the lavatories.  At approximately 1027p Katy and the passenger returned to the Porsche.  The passenger got into the car and Katy proceeded to load the luggage into the trunk.  As she was closing the trunk, the ABM lavatory service driver begins to pull away.  Katy gets pushed up onto the side of the Porsche by the still connected lavatory service hose.  She quickly pulls it away enough to get under it.  Then proceeds to waive down the driver to stop.</td>\n",
       "      <td>[14jan22, katy, parked, porsche, gate, greet, passenger, dl3851, pdx, lax, parked, left, tail, side, aircraft, rear, porsche, facing, south, parking, ermc, arrived, backed, ship, service, lavatories, approximately, 1027p, katy, passenger, returned, porsche, passenger, got, car, katy, proceeded, load, luggage, trunk, closing, trunk, abm, lavatory, service, driver, begins, pull, away, katy, gets, pushed, onto, side, porsche, still, connected, lavatory, service, hose, quickly, pulls, away, enough, get, proceeds, waive, driver, stop]</td>\n",
       "      <td>[0.018185027, 0.24103673, 0.033950515, 0.12280439, 0.045673896, -0.19350724, 0.11986755, 0.44350573, 0.0674236, -0.08736359, 0.005948549, -0.27228317, 0.05648091, -0.10418014, -0.09363291, -0.15337855, 0.13365251, 0.038733337, 0.07763914, -0.01128005, -0.14527127, 0.0646305, 0.14240187, 0.05349175, 0.018938713, -0.012338214, -0.29150653, 0.046295498, -0.13494223, -0.16322286, 0.056475136, -0.15268292, 0.062198758, -0.05005803, -0.05995316, 0.13622993, 0.04683847, -0.26655528, -0.10114395, 0.078702785, -0.085272424, 0.07932398, -0.046804763, -0.12131594, 0.17498948, 0.21467352, 0.052842136, 0.0060765697, -0.016691461, 0.13065454, 0.056775503, -0.0116650555, -0.10153768, 0.05269577, -0.024186354, 0.19787341, 0.003183882, -0.09300643, 0.039216407, -0.0051485547, -0.02816534, -0.07574181, 0.0026814814, 0.040118862, -0.020854734, 0.08353546, -0.04681781, -0.0039473586, -0.095757976, -0.13348508, -0.03162648, 0.07318173, 0.251829, -0.15766856, -0.037656594, 0.13920265, -0.25963736, 0.08323799, -0.07456138, 0.15739939, -0.17026408, -0.17362772, 0.073558286, 0.35675853, 0.04649602, 0.0005329356, -0.2611394, 0.048367016, 0.2039431, 0.11888104, 0.26183498, -0.11786316, 0.13248833, 0.0005679205, 0.0942889, 0.21819885, 0.20413387, -0.010660792, -0.052618306, 0.12911649, ...]</td>\n",
       "    </tr>\n",
       "    <tr>\n",
       "      <th>662</th>\n",
       "      <td>advised Josephine Calautti informed me this morning her left foot was slightly swollen and the bottom of her heel is in pain. The direct cause of this injury is unknown to employee as it was not contributed to any type of twisting or of that nature. On 06/18 @ approx. 11a Josephine was walking down the jet bridge on gate 21 when she felt sharp pains on the bottom of her heel through to her Achilles. This morning her lower left ankle became slightly swollen and she was hurting while putting pressure on heel while walking.</td>\n",
       "      <td>[advised, josephine, calautti, informed, morning, left, foot, slightly, swollen, bottom, heel, pain, direct, cause, injury, unknown, employee, contributed, type, twisting, nature, approx, 11a, josephine, walking, jet, bridge, gate, felt, sharp, pains, bottom, heel, achilles, morning, lower, left, ankle, became, slightly, swollen, hurting, putting, pressure, heel, walking]</td>\n",
       "      <td>[0.016328685, 0.2256951, 0.033180457, 0.11531844, 0.04282044, -0.18142179, 0.11186939, 0.41607228, 0.0644237, -0.08212799, 0.0062495936, -0.25514024, 0.052961648, -0.098467685, -0.088590324, -0.14420919, 0.12463156, 0.036530126, 0.07345489, -0.010700663, -0.13663276, 0.060632195, 0.13355803, 0.049449347, 0.017990539, -0.011791407, -0.27324322, 0.043646775, -0.1259502, -0.15244682, 0.05282398, -0.14315903, 0.05819357, -0.046632156, -0.056390196, 0.12773165, 0.04330261, -0.24970125, -0.09465945, 0.07353329, -0.08012435, 0.07457813, -0.0437913, -0.11351191, 0.16442634, 0.20084937, 0.049714714, 0.004977336, -0.014987365, 0.123220876, 0.054138403, -0.011011182, -0.09537837, 0.049327083, -0.023159064, 0.18532114, 0.004077584, -0.08820557, 0.036875267, -0.005986343, -0.027765522, -0.07125113, 0.0019059335, 0.03743845, -0.01925724, 0.078131564, -0.044472132, -0.002971681, -0.09051495, -0.12545396, -0.030323375, 0.0686107, 0.23635921, -0.14763792, -0.03509579, 0.13046348, -0.24316925, 0.0781866, -0.070375636, 0.14739442, -0.15939394, -0.16309509, 0.06809446, 0.33392745, 0.04289276, 0.00052493694, -0.24496213, 0.04445139, 0.19028884, 0.1123167, 0.24528658, -0.11081952, 0.1233372, 0.00056087447, 0.08945822, 0.20474158, 0.19141296, -0.009350534, -0.04992808, 0.12021206, ...]</td>\n",
       "    </tr>\n",
       "    <tr>\n",
       "      <th>495</th>\n",
       "      <td>Agent was assisting in lifting aisle chair with heavy passenger over the aircraft lip of door onto the jet bridge.  She felt pain down her mid to lower back.</td>\n",
       "      <td>[agent, assisting, lifting, aisle, chair, heavy, passenger, aircraft, lip, door, onto, jet, bridge, felt, pain, mid, lower, back]</td>\n",
       "      <td>[0.018408585, 0.25044417, 0.035839386, 0.12729527, 0.04721288, -0.2008638, 0.12484263, 0.4610085, 0.07113667, -0.09052149, 0.0064197374, -0.28270215, 0.058109805, -0.10907129, -0.09748259, -0.16043998, 0.13760701, 0.040821828, 0.081521414, -0.011674487, -0.15033413, 0.06863006, 0.14769606, 0.05587868, 0.020457035, -0.012854615, -0.30275092, 0.048281793, -0.13931437, -0.16981423, 0.05817873, -0.1592388, 0.06374463, -0.05253346, -0.062377255, 0.14066613, 0.04852417, -0.276407, -0.10487449, 0.08075166, -0.0882594, 0.08219226, -0.04864668, -0.1253697, 0.18129693, 0.22312692, 0.05512938, 0.006633375, -0.017259793, 0.13569397, 0.058851797, -0.012214874, -0.10572791, 0.05471304, -0.025892535, 0.20585449, 0.004279928, -0.09670791, 0.0411664, -0.005450506, -0.02984078, -0.07854408, 0.0021120664, 0.04155751, -0.021728322, 0.085840836, -0.0491499, -0.0041287984, -0.100466706, -0.13897525, -0.033119902, 0.076778725, 0.26216522, -0.16421126, -0.03905717, 0.14464219, -0.27002174, 0.086238615, -0.07821316, 0.1628882, -0.17730637, -0.18025939, 0.07630676, 0.37070873, 0.048024915, 0.00011938936, -0.27231008, 0.05044693, 0.21221653, 0.12390254, 0.27189428, -0.12190017, 0.13705061, -3.3140153e-05, 0.09853614, 0.22773719, 0.21240161, -0.01019749, -0.05449572, 0.13392751, ...]</td>\n",
       "    </tr>\n",
       "    <tr>\n",
       "      <th>4</th>\n",
       "      <td>Agent was assisting a passenger deplaning from remote ops spot 5C, he climbed up the steps and stopped at the second step to retrieve carry on item from passenger and he walked down the steps backwards. When he stepped down he felt his left ankle slightly roll but felt no pain. He continued working and clocked out  at 2230. He woke up this morning (23NOV) and felt a sharp pain starting from his ankle bone shooting up his leg and his ankle was swollen as well. He is also limping as he walks</td>\n",
       "      <td>[agent, assisting, passenger, deplaning, remote, ops, spot, 5c, climbed, steps, stopped, second, step, retrieve, carry, item, passenger, walked, steps, backwards, stepped, felt, left, ankle, slightly, roll, felt, pain, continued, working, clocked, woke, morning, 23nov, felt, sharp, pain, starting, ankle, bone, shooting, leg, ankle, swollen, well, also, limping, walks]</td>\n",
       "      <td>[0.015928483, 0.21274167, 0.030344835, 0.10737581, 0.039439436, -0.1705585, 0.10599091, 0.39093864, 0.06071554, -0.07772164, 0.0055750185, -0.24023338, 0.050636843, -0.092864335, -0.08327067, -0.13493466, 0.11743128, 0.035261497, 0.06905873, -0.01022689, -0.12777908, 0.05748125, 0.12542081, 0.04717495, 0.01596261, -0.010630482, -0.25733674, 0.040324733, -0.1179388, -0.14379792, 0.049869023, -0.13518688, 0.054325182, -0.044130042, -0.053065863, 0.11923597, 0.040429354, -0.23491083, -0.08850951, 0.068782136, -0.07469316, 0.07037449, -0.041685518, -0.10684141, 0.15418434, 0.18870728, 0.04620371, 0.0048914473, -0.014651528, 0.115186565, 0.0500248, -0.010810094, -0.08900032, 0.046327483, -0.021726329, 0.17380825, 0.0031376856, -0.08199419, 0.03446861, -0.005147065, -0.024957277, -0.06687637, 0.001941849, 0.035208143, -0.018773176, 0.07372322, -0.0415528, -0.0042032357, -0.085401215, -0.11807943, -0.028426174, 0.06470798, 0.22239466, -0.13930188, -0.033197645, 0.12273723, -0.22922392, 0.07283851, -0.066055164, 0.13830309, -0.14985788, -0.1528843, 0.06392536, 0.3140196, 0.040795434, 0.0001531002, -0.23076008, 0.04242212, 0.1789225, 0.10582331, 0.23071913, -0.10469456, 0.11630662, 7.300104e-05, 0.0844925, 0.1929244, 0.17957298, -0.009614417, -0.0458864, 0.11288259, ...]</td>\n",
       "    </tr>\n",
       "  </tbody>\n",
       "</table>\n",
       "</div>"
      ],
      "text/plain": [
       "                                                                                                                                                                                                                                                                                                                                                                                                                                                                                                                                                                                                                                                                                                              Description of Event  \\\n",
       "301                                                                                                                                                                                                                                                                AT 12:10pm EE checked in pax with tote/toolbox weighing 92lbs. EE marked the bag with two heavy tags. EE asked for assistance from another agent, to lift the heavy bag on to the ticket counter bag belt. EE stood with his left side closest to the belt. Together with the other agent, he lifted the bag with two hands moving the bag across his body from right to left. As EE moved the bag across his body, he heard a “pop” and immediately felt pain.   \n",
       "157  On 14JAN22, Katy parked the Porsche at gate 37 to greet a passenger off DL3851 PDX-LAX.  She parked at the left tail side of the aircraft with the rear of the Porsche facing south.  After parking, ERMC arrived and backed up to ship 252 to service the lavatories.  At approximately 1027p Katy and the passenger returned to the Porsche.  The passenger got into the car and Katy proceeded to load the luggage into the trunk.  As she was closing the trunk, the ABM lavatory service driver begins to pull away.  Katy gets pushed up onto the side of the Porsche by the still connected lavatory service hose.  She quickly pulls it away enough to get under it.  Then proceeds to waive down the driver to stop.   \n",
       "662                                                                                                                                                                                 advised Josephine Calautti informed me this morning her left foot was slightly swollen and the bottom of her heel is in pain. The direct cause of this injury is unknown to employee as it was not contributed to any type of twisting or of that nature. On 06/18 @ approx. 11a Josephine was walking down the jet bridge on gate 21 when she felt sharp pains on the bottom of her heel through to her Achilles. This morning her lower left ankle became slightly swollen and she was hurting while putting pressure on heel while walking.   \n",
       "495                                                                                                                                                                                                                                                                                                                                                                                                                                                                                                                                                                  Agent was assisting in lifting aisle chair with heavy passenger over the aircraft lip of door onto the jet bridge.  She felt pain down her mid to lower back.   \n",
       "4                                                                                                                                                                                                                   Agent was assisting a passenger deplaning from remote ops spot 5C, he climbed up the steps and stopped at the second step to retrieve carry on item from passenger and he walked down the steps backwards. When he stepped down he felt his left ankle slightly roll but felt no pain. He continued working and clocked out  at 2230. He woke up this morning (23NOV) and felt a sharp pain starting from his ankle bone shooting up his leg and his ankle was swollen as well. He is also limping as he walks   \n",
       "\n",
       "                                                                                                                                                                                                                                                                                                                                                                                                                                                                                                                                                      tokens  \\\n",
       "301                                                                                                                                                                              [1210pm, ee, checked, pax, totetoolbox, weighing, 92lbs, ee, marked, bag, two, heavy, tags, ee, asked, assistance, another, agent, lift, heavy, bag, ticket, counter, bag, belt, ee, stood, left, side, closest, belt, together, agent, lifted, bag, two, hands, moving, bag, across, body, right, left, ee, moved, bag, across, body, heard, pop, immediately, felt, pain]   \n",
       "157  [14jan22, katy, parked, porsche, gate, greet, passenger, dl3851, pdx, lax, parked, left, tail, side, aircraft, rear, porsche, facing, south, parking, ermc, arrived, backed, ship, service, lavatories, approximately, 1027p, katy, passenger, returned, porsche, passenger, got, car, katy, proceeded, load, luggage, trunk, closing, trunk, abm, lavatory, service, driver, begins, pull, away, katy, gets, pushed, onto, side, porsche, still, connected, lavatory, service, hose, quickly, pulls, away, enough, get, proceeds, waive, driver, stop]   \n",
       "662                                                                                                                                                                   [advised, josephine, calautti, informed, morning, left, foot, slightly, swollen, bottom, heel, pain, direct, cause, injury, unknown, employee, contributed, type, twisting, nature, approx, 11a, josephine, walking, jet, bridge, gate, felt, sharp, pains, bottom, heel, achilles, morning, lower, left, ankle, became, slightly, swollen, hurting, putting, pressure, heel, walking]   \n",
       "495                                                                                                                                                                                                                                                                                                                                                                                                                        [agent, assisting, lifting, aisle, chair, heavy, passenger, aircraft, lip, door, onto, jet, bridge, felt, pain, mid, lower, back]   \n",
       "4                                                                                                                                                                         [agent, assisting, passenger, deplaning, remote, ops, spot, 5c, climbed, steps, stopped, second, step, retrieve, carry, item, passenger, walked, steps, backwards, stepped, felt, left, ankle, slightly, roll, felt, pain, continued, working, clocked, woke, morning, 23nov, felt, sharp, pain, starting, ankle, bone, shooting, leg, ankle, swollen, well, also, limping, walks]   \n",
       "\n",
       "                                                                                                                                                                                                                                                                                                                                                                                                                                                                                                                                                                                                                                                                                                                                                                                                                                                                                                                                                                                                                                                                                                                                                                                                                                                                                                                         vectorized_docs  \n",
       "301  [0.02078223, 0.28733596, 0.040639326, 0.14662439, 0.053288974, -0.23149274, 0.1421007, 0.5295764, 0.08089438, -0.105023816, 0.008849435, -0.32476515, 0.06760511, -0.123851515, -0.11228678, -0.18282238, 0.15936929, 0.045607127, 0.0934885, -0.014152064, -0.17246228, 0.0772793, 0.16892964, 0.06377067, 0.022525078, -0.0154312365, -0.34821892, 0.056510925, -0.16030723, -0.19473821, 0.06710984, -0.18251911, 0.07434252, -0.059736427, -0.07203949, 0.16165294, 0.055306293, -0.3178666, -0.12057288, 0.09298358, -0.101624966, 0.09543545, -0.055783104, -0.14444922, 0.20872512, 0.25495723, 0.06222806, 0.0071749776, -0.01998309, 0.15665336, 0.067331165, -0.013482443, -0.12223459, 0.06347043, -0.027874587, 0.23429559, 0.004018198, -0.112019174, 0.047091495, -0.006398526, -0.034146193, -0.08964167, 0.002964169, 0.047649346, -0.025708806, 0.09972803, -0.056284558, -0.0042402847, -0.11530547, -0.15914607, -0.037736095, 0.08804078, 0.30009148, -0.18848133, -0.043457553, 0.16498247, -0.30944487, 0.099162765, -0.08905923, 0.18599838, -0.2031958, -0.20715837, 0.08662451, 0.42640746, 0.055079065, -0.0001251785, -0.31122673, 0.056625664, 0.2427255, 0.14296466, 0.31089833, -0.14139344, 0.15720321, 0.000899923, 0.114472345, 0.2605898, 0.24237971, -0.011944372, -0.06241723, 0.15385789, ...]  \n",
       "157  [0.018185027, 0.24103673, 0.033950515, 0.12280439, 0.045673896, -0.19350724, 0.11986755, 0.44350573, 0.0674236, -0.08736359, 0.005948549, -0.27228317, 0.05648091, -0.10418014, -0.09363291, -0.15337855, 0.13365251, 0.038733337, 0.07763914, -0.01128005, -0.14527127, 0.0646305, 0.14240187, 0.05349175, 0.018938713, -0.012338214, -0.29150653, 0.046295498, -0.13494223, -0.16322286, 0.056475136, -0.15268292, 0.062198758, -0.05005803, -0.05995316, 0.13622993, 0.04683847, -0.26655528, -0.10114395, 0.078702785, -0.085272424, 0.07932398, -0.046804763, -0.12131594, 0.17498948, 0.21467352, 0.052842136, 0.0060765697, -0.016691461, 0.13065454, 0.056775503, -0.0116650555, -0.10153768, 0.05269577, -0.024186354, 0.19787341, 0.003183882, -0.09300643, 0.039216407, -0.0051485547, -0.02816534, -0.07574181, 0.0026814814, 0.040118862, -0.020854734, 0.08353546, -0.04681781, -0.0039473586, -0.095757976, -0.13348508, -0.03162648, 0.07318173, 0.251829, -0.15766856, -0.037656594, 0.13920265, -0.25963736, 0.08323799, -0.07456138, 0.15739939, -0.17026408, -0.17362772, 0.073558286, 0.35675853, 0.04649602, 0.0005329356, -0.2611394, 0.048367016, 0.2039431, 0.11888104, 0.26183498, -0.11786316, 0.13248833, 0.0005679205, 0.0942889, 0.21819885, 0.20413387, -0.010660792, -0.052618306, 0.12911649, ...]  \n",
       "662  [0.016328685, 0.2256951, 0.033180457, 0.11531844, 0.04282044, -0.18142179, 0.11186939, 0.41607228, 0.0644237, -0.08212799, 0.0062495936, -0.25514024, 0.052961648, -0.098467685, -0.088590324, -0.14420919, 0.12463156, 0.036530126, 0.07345489, -0.010700663, -0.13663276, 0.060632195, 0.13355803, 0.049449347, 0.017990539, -0.011791407, -0.27324322, 0.043646775, -0.1259502, -0.15244682, 0.05282398, -0.14315903, 0.05819357, -0.046632156, -0.056390196, 0.12773165, 0.04330261, -0.24970125, -0.09465945, 0.07353329, -0.08012435, 0.07457813, -0.0437913, -0.11351191, 0.16442634, 0.20084937, 0.049714714, 0.004977336, -0.014987365, 0.123220876, 0.054138403, -0.011011182, -0.09537837, 0.049327083, -0.023159064, 0.18532114, 0.004077584, -0.08820557, 0.036875267, -0.005986343, -0.027765522, -0.07125113, 0.0019059335, 0.03743845, -0.01925724, 0.078131564, -0.044472132, -0.002971681, -0.09051495, -0.12545396, -0.030323375, 0.0686107, 0.23635921, -0.14763792, -0.03509579, 0.13046348, -0.24316925, 0.0781866, -0.070375636, 0.14739442, -0.15939394, -0.16309509, 0.06809446, 0.33392745, 0.04289276, 0.00052493694, -0.24496213, 0.04445139, 0.19028884, 0.1123167, 0.24528658, -0.11081952, 0.1233372, 0.00056087447, 0.08945822, 0.20474158, 0.19141296, -0.009350534, -0.04992808, 0.12021206, ...]  \n",
       "495         [0.018408585, 0.25044417, 0.035839386, 0.12729527, 0.04721288, -0.2008638, 0.12484263, 0.4610085, 0.07113667, -0.09052149, 0.0064197374, -0.28270215, 0.058109805, -0.10907129, -0.09748259, -0.16043998, 0.13760701, 0.040821828, 0.081521414, -0.011674487, -0.15033413, 0.06863006, 0.14769606, 0.05587868, 0.020457035, -0.012854615, -0.30275092, 0.048281793, -0.13931437, -0.16981423, 0.05817873, -0.1592388, 0.06374463, -0.05253346, -0.062377255, 0.14066613, 0.04852417, -0.276407, -0.10487449, 0.08075166, -0.0882594, 0.08219226, -0.04864668, -0.1253697, 0.18129693, 0.22312692, 0.05512938, 0.006633375, -0.017259793, 0.13569397, 0.058851797, -0.012214874, -0.10572791, 0.05471304, -0.025892535, 0.20585449, 0.004279928, -0.09670791, 0.0411664, -0.005450506, -0.02984078, -0.07854408, 0.0021120664, 0.04155751, -0.021728322, 0.085840836, -0.0491499, -0.0041287984, -0.100466706, -0.13897525, -0.033119902, 0.076778725, 0.26216522, -0.16421126, -0.03905717, 0.14464219, -0.27002174, 0.086238615, -0.07821316, 0.1628882, -0.17730637, -0.18025939, 0.07630676, 0.37070873, 0.048024915, 0.00011938936, -0.27231008, 0.05044693, 0.21221653, 0.12390254, 0.27189428, -0.12190017, 0.13705061, -3.3140153e-05, 0.09853614, 0.22773719, 0.21240161, -0.01019749, -0.05449572, 0.13392751, ...]  \n",
       "4     [0.015928483, 0.21274167, 0.030344835, 0.10737581, 0.039439436, -0.1705585, 0.10599091, 0.39093864, 0.06071554, -0.07772164, 0.0055750185, -0.24023338, 0.050636843, -0.092864335, -0.08327067, -0.13493466, 0.11743128, 0.035261497, 0.06905873, -0.01022689, -0.12777908, 0.05748125, 0.12542081, 0.04717495, 0.01596261, -0.010630482, -0.25733674, 0.040324733, -0.1179388, -0.14379792, 0.049869023, -0.13518688, 0.054325182, -0.044130042, -0.053065863, 0.11923597, 0.040429354, -0.23491083, -0.08850951, 0.068782136, -0.07469316, 0.07037449, -0.041685518, -0.10684141, 0.15418434, 0.18870728, 0.04620371, 0.0048914473, -0.014651528, 0.115186565, 0.0500248, -0.010810094, -0.08900032, 0.046327483, -0.021726329, 0.17380825, 0.0031376856, -0.08199419, 0.03446861, -0.005147065, -0.024957277, -0.06687637, 0.001941849, 0.035208143, -0.018773176, 0.07372322, -0.0415528, -0.0042032357, -0.085401215, -0.11807943, -0.028426174, 0.06470798, 0.22239466, -0.13930188, -0.033197645, 0.12273723, -0.22922392, 0.07283851, -0.066055164, 0.13830309, -0.14985788, -0.1528843, 0.06392536, 0.3140196, 0.040795434, 0.0001531002, -0.23076008, 0.04242212, 0.1789225, 0.10582331, 0.23071913, -0.10469456, 0.11630662, 7.300104e-05, 0.0844925, 0.1929244, 0.17957298, -0.009614417, -0.0458864, 0.11288259, ...]  "
      ]
     },
     "execution_count": 102,
     "metadata": {},
     "output_type": "execute_result"
    }
   ],
   "source": [
    "df.head()"
   ]
  },
  {
   "cell_type": "code",
   "execution_count": 33,
   "id": "7b5e3caa",
   "metadata": {},
   "outputs": [],
   "source": [
    "#similar_words = model.corpus_total_words('ergonomics')"
   ]
  },
  {
   "cell_type": "code",
   "execution_count": 161,
   "id": "817d9641",
   "metadata": {},
   "outputs": [
    {
     "ename": "KeyError",
     "evalue": "\"Key 'remote' not present\"",
     "output_type": "error",
     "traceback": [
      "\u001b[1;31m---------------------------------------------------------------------------\u001b[0m",
      "\u001b[1;31mKeyError\u001b[0m                                  Traceback (most recent call last)",
      "Cell \u001b[1;32mIn [161], line 2\u001b[0m\n\u001b[0;32m      1\u001b[0m word_vectors \u001b[38;5;241m=\u001b[39m model\u001b[38;5;241m.\u001b[39mwv\n\u001b[1;32m----> 2\u001b[0m centroid \u001b[38;5;241m=\u001b[39m np\u001b[38;5;241m.\u001b[39maverage([word_vectors[w] \u001b[38;5;28;01mfor\u001b[39;00m w \u001b[38;5;129;01min\u001b[39;00m [\u001b[38;5;124m'\u001b[39m\u001b[38;5;124magent\u001b[39m\u001b[38;5;124m'\u001b[39m, \u001b[38;5;124m'\u001b[39m\u001b[38;5;124massisting\u001b[39m\u001b[38;5;124m'\u001b[39m, \u001b[38;5;124m'\u001b[39m\u001b[38;5;124mpassenger\u001b[39m\u001b[38;5;124m'\u001b[39m, \u001b[38;5;124m'\u001b[39m\u001b[38;5;124mremote\u001b[39m\u001b[38;5;124m'\u001b[39m]],axis\u001b[38;5;241m=\u001b[39m\u001b[38;5;241m0\u001b[39m)\n\u001b[0;32m      3\u001b[0m centroid\n",
      "Cell \u001b[1;32mIn [161], line 2\u001b[0m, in \u001b[0;36m<listcomp>\u001b[1;34m(.0)\u001b[0m\n\u001b[0;32m      1\u001b[0m word_vectors \u001b[38;5;241m=\u001b[39m model\u001b[38;5;241m.\u001b[39mwv\n\u001b[1;32m----> 2\u001b[0m centroid \u001b[38;5;241m=\u001b[39m np\u001b[38;5;241m.\u001b[39maverage([\u001b[43mword_vectors\u001b[49m\u001b[43m[\u001b[49m\u001b[43mw\u001b[49m\u001b[43m]\u001b[49m \u001b[38;5;28;01mfor\u001b[39;00m w \u001b[38;5;129;01min\u001b[39;00m [\u001b[38;5;124m'\u001b[39m\u001b[38;5;124magent\u001b[39m\u001b[38;5;124m'\u001b[39m, \u001b[38;5;124m'\u001b[39m\u001b[38;5;124massisting\u001b[39m\u001b[38;5;124m'\u001b[39m, \u001b[38;5;124m'\u001b[39m\u001b[38;5;124mpassenger\u001b[39m\u001b[38;5;124m'\u001b[39m, \u001b[38;5;124m'\u001b[39m\u001b[38;5;124mremote\u001b[39m\u001b[38;5;124m'\u001b[39m]],axis\u001b[38;5;241m=\u001b[39m\u001b[38;5;241m0\u001b[39m)\n\u001b[0;32m      3\u001b[0m centroid\n",
      "File \u001b[1;32m~\\AppData\\Roaming\\Python\\Python310\\site-packages\\gensim\\models\\keyedvectors.py:404\u001b[0m, in \u001b[0;36mKeyedVectors.__getitem__\u001b[1;34m(self, key_or_keys)\u001b[0m\n\u001b[0;32m    390\u001b[0m \u001b[38;5;124;03m\"\"\"Get vector representation of `key_or_keys`.\u001b[39;00m\n\u001b[0;32m    391\u001b[0m \n\u001b[0;32m    392\u001b[0m \u001b[38;5;124;03mParameters\u001b[39;00m\n\u001b[1;32m   (...)\u001b[0m\n\u001b[0;32m    401\u001b[0m \n\u001b[0;32m    402\u001b[0m \u001b[38;5;124;03m\"\"\"\u001b[39;00m\n\u001b[0;32m    403\u001b[0m \u001b[38;5;28;01mif\u001b[39;00m \u001b[38;5;28misinstance\u001b[39m(key_or_keys, _KEY_TYPES):\n\u001b[1;32m--> 404\u001b[0m     \u001b[38;5;28;01mreturn\u001b[39;00m \u001b[38;5;28;43mself\u001b[39;49m\u001b[38;5;241;43m.\u001b[39;49m\u001b[43mget_vector\u001b[49m\u001b[43m(\u001b[49m\u001b[43mkey_or_keys\u001b[49m\u001b[43m)\u001b[49m\n\u001b[0;32m    406\u001b[0m \u001b[38;5;28;01mreturn\u001b[39;00m vstack([\u001b[38;5;28mself\u001b[39m\u001b[38;5;241m.\u001b[39mget_vector(key) \u001b[38;5;28;01mfor\u001b[39;00m key \u001b[38;5;129;01min\u001b[39;00m key_or_keys])\n",
      "File \u001b[1;32m~\\AppData\\Roaming\\Python\\Python310\\site-packages\\gensim\\models\\keyedvectors.py:447\u001b[0m, in \u001b[0;36mKeyedVectors.get_vector\u001b[1;34m(self, key, norm)\u001b[0m\n\u001b[0;32m    423\u001b[0m \u001b[38;5;28;01mdef\u001b[39;00m \u001b[38;5;21mget_vector\u001b[39m(\u001b[38;5;28mself\u001b[39m, key, norm\u001b[38;5;241m=\u001b[39m\u001b[38;5;28;01mFalse\u001b[39;00m):\n\u001b[0;32m    424\u001b[0m     \u001b[38;5;124;03m\"\"\"Get the key's vector, as a 1D numpy array.\u001b[39;00m\n\u001b[0;32m    425\u001b[0m \n\u001b[0;32m    426\u001b[0m \u001b[38;5;124;03m    Parameters\u001b[39;00m\n\u001b[1;32m   (...)\u001b[0m\n\u001b[0;32m    445\u001b[0m \n\u001b[0;32m    446\u001b[0m \u001b[38;5;124;03m    \"\"\"\u001b[39;00m\n\u001b[1;32m--> 447\u001b[0m     index \u001b[38;5;241m=\u001b[39m \u001b[38;5;28;43mself\u001b[39;49m\u001b[38;5;241;43m.\u001b[39;49m\u001b[43mget_index\u001b[49m\u001b[43m(\u001b[49m\u001b[43mkey\u001b[49m\u001b[43m)\u001b[49m\n\u001b[0;32m    448\u001b[0m     \u001b[38;5;28;01mif\u001b[39;00m norm:\n\u001b[0;32m    449\u001b[0m         \u001b[38;5;28mself\u001b[39m\u001b[38;5;241m.\u001b[39mfill_norms()\n",
      "File \u001b[1;32m~\\AppData\\Roaming\\Python\\Python310\\site-packages\\gensim\\models\\keyedvectors.py:421\u001b[0m, in \u001b[0;36mKeyedVectors.get_index\u001b[1;34m(self, key, default)\u001b[0m\n\u001b[0;32m    419\u001b[0m     \u001b[38;5;28;01mreturn\u001b[39;00m default\n\u001b[0;32m    420\u001b[0m \u001b[38;5;28;01melse\u001b[39;00m:\n\u001b[1;32m--> 421\u001b[0m     \u001b[38;5;28;01mraise\u001b[39;00m \u001b[38;5;167;01mKeyError\u001b[39;00m(\u001b[38;5;124mf\u001b[39m\u001b[38;5;124m\"\u001b[39m\u001b[38;5;124mKey \u001b[39m\u001b[38;5;124m'\u001b[39m\u001b[38;5;132;01m{\u001b[39;00mkey\u001b[38;5;132;01m}\u001b[39;00m\u001b[38;5;124m'\u001b[39m\u001b[38;5;124m not present\u001b[39m\u001b[38;5;124m\"\u001b[39m)\n",
      "\u001b[1;31mKeyError\u001b[0m: \"Key 'remote' not present\""
     ]
    }
   ],
   "source": [
    "word_vectors = model.wv\n",
    "centroid = np.average([word_vectors[w] for w in ['agent', 'assisting', 'passenger', 'remote']],axis=0)\n",
    "centroid                       "
   ]
  },
  {
   "cell_type": "code",
   "execution_count": 146,
   "id": "7e9893f1",
   "metadata": {},
   "outputs": [
    {
     "ename": "TypeError",
     "evalue": "'Word2Vec' object is not subscriptable",
     "output_type": "error",
     "traceback": [
      "\u001b[1;31m---------------------------------------------------------------------------\u001b[0m",
      "\u001b[1;31mTypeError\u001b[0m                                 Traceback (most recent call last)",
      "Cell \u001b[1;32mIn [146], line 2\u001b[0m\n\u001b[0;32m      1\u001b[0m \u001b[38;5;28;01mfor\u001b[39;00m label \u001b[38;5;129;01min\u001b[39;00m label_names:\n\u001b[1;32m----> 2\u001b[0m     label_vectors \u001b[38;5;241m=\u001b[39m model[label]\n\u001b[0;32m      3\u001b[0m label_vectors\n",
      "\u001b[1;31mTypeError\u001b[0m: 'Word2Vec' object is not subscriptable"
     ]
    }
   ],
   "source": [
    "for label in label_names:\n",
    "    label_vectors = model[label]\n",
    "label_vectors"
   ]
  },
  {
   "cell_type": "code",
   "execution_count": 153,
   "id": "572e53f3",
   "metadata": {},
   "outputs": [
    {
     "name": "stdout",
     "output_type": "stream",
     "text": [
      "[ 0.01527291  0.25474617  0.03483393  0.12841412  0.04705546 -0.20514777\n",
      "  0.12887192  0.47077987  0.07462597 -0.09093735  0.00836827 -0.28705937\n",
      "  0.06176816 -0.11082573 -0.09672327 -0.16430452  0.14155792  0.04225959\n",
      "  0.08569419 -0.01402153 -0.150474    0.06954388  0.14842647  0.05934713\n",
      "  0.01892079 -0.01116091 -0.3113349   0.04748679 -0.1402214  -0.17274827\n",
      "  0.05687495 -0.16197191  0.06247415 -0.05118434 -0.06068045  0.14255859\n",
      "  0.05117043 -0.2833006  -0.10567693  0.08304434 -0.09289968  0.08552935\n",
      " -0.05116712 -0.12616447  0.18331864  0.22944276  0.0557742   0.00834157\n",
      " -0.01594942  0.1417949   0.06016016 -0.01166533 -0.10774449  0.05497406\n",
      " -0.02657549  0.2099955   0.00610884 -0.09676678  0.04234273 -0.00480333\n",
      " -0.03115932 -0.07930692  0.00111925  0.03991732 -0.02506059  0.08920845\n",
      " -0.05194484 -0.00148678 -0.10409478 -0.14186013 -0.03596606  0.08027589\n",
      "  0.2681161  -0.16597341 -0.03973766  0.14481916 -0.27673784  0.09152057\n",
      " -0.08196294  0.16781259 -0.17810735 -0.18088935  0.07840046  0.37769014\n",
      "  0.05051681  0.00188296 -0.27938098  0.0489495   0.21501604  0.12657663\n",
      "  0.2779503  -0.12596732  0.13869934  0.00159631  0.10187842  0.23420323\n",
      "  0.21880127 -0.01048569 -0.05487899  0.13278471 -0.07618709  0.03968158\n",
      "  0.17445321  0.09019375  0.07481311 -0.13574496  0.01956241  0.01918915\n",
      " -0.2594805   0.17697206 -0.3475624  -0.02014572 -0.07921574  0.1676386\n",
      "  0.07254942  0.12531911 -0.12025844  0.0621452   0.27293316 -0.21702063\n",
      "  0.20174268  0.20340082  0.13598888  0.02398074 -0.14033937  0.14920089\n",
      "  0.09235533 -0.14039546 -0.10330699  0.23009434  0.16740835  0.2088779\n",
      "  0.0254949  -0.17725763  0.10852709  0.1425152  -0.08821361 -0.18744102\n",
      " -0.25283203 -0.2847002   0.00970661 -0.18603182  0.04595717  0.17657223\n",
      "  0.1025455  -0.13583286 -0.27276686 -0.0827271   0.1587894  -0.13064863\n",
      "  0.02226078 -0.45141292 -0.11314674 -0.04782575  0.01224135  0.11422995\n",
      " -0.2694275  -0.1568397   0.00454945  0.24222691  0.12637016  0.24411695\n",
      " -0.33007672  0.1819907  -0.12715302  0.14083666  0.01343984  0.06342402\n",
      "  0.03047905  0.37091526 -0.16414729 -0.018783    0.08596098  0.1040786\n",
      " -0.03283283  0.06872577  0.01307501 -0.17540781  0.07901084 -0.068178\n",
      " -0.18215275  0.09628951 -0.1308577  -0.0382319  -0.05508454  0.06831264\n",
      "  0.23825936  0.20484248  0.0371335  -0.25934112  0.05215387  0.0296087\n",
      " -0.28804034 -0.02935011  0.1258185  -0.21814302  0.02260666 -0.26968932\n",
      "  0.10341081 -0.03515031 -0.2545251   0.07372503 -0.03072048 -0.20705204\n",
      "  0.01429233 -0.0373727  -0.12409887  0.07320112 -0.02028252 -0.03851467\n",
      " -0.03899797 -0.19924252 -0.06757281 -0.03397016  0.12564498 -0.22894023\n",
      " -0.05424985 -0.32927305 -0.22942641 -0.24043214  0.14797802  0.00124625\n",
      " -0.10740035 -0.05511671 -0.12105099 -0.18437384  0.0186952  -0.05315479\n",
      " -0.10556438  0.11869907  0.16395651 -0.05152142 -0.16852805  0.13588642\n",
      " -0.02883114  0.10641885 -0.08796197 -0.03880465  0.01202117 -0.29910582\n",
      "  0.02966844  0.01787929 -0.01295569  0.07529098 -0.06594315 -0.20649564\n",
      " -0.10320082  0.11173552 -0.05710622  0.1233382   0.10921659  0.07783024\n",
      "  0.11654221  0.05826258 -0.3062424  -0.09433106  0.39750051  0.06540786\n",
      " -0.34670845 -0.18916805  0.13592884  0.11193692  0.05795837 -0.29369524\n",
      " -0.17394306 -0.08781191  0.06775328  0.05394024 -0.24871103  0.03878744\n",
      " -0.1200076   0.03685326  0.02315357 -0.08283722  0.20559749  0.08731523\n",
      "  0.12882085  0.07373717 -0.20144533 -0.0583636   0.13781524  0.01541908\n",
      " -0.00370413  0.10601795  0.10152374  0.06001041 -0.3147506   0.12111923\n",
      "  0.00815694  0.23685794  0.0532122   0.33020604  0.14404324 -0.03481374\n",
      "  0.24849872  0.33553326 -0.06941364 -0.20577145  0.14426914 -0.15790468]\n"
     ]
    }
   ],
   "source": [
    "print(model.wv['pain'])"
   ]
  },
  {
   "cell_type": "code",
   "execution_count": 103,
   "id": "8cb10dbd",
   "metadata": {},
   "outputs": [],
   "source": [
    "label_names = ['ergonomics','sliptripfall','other']\n",
    "vectorized_lbls = []\n",
    "for label in label_names:\n",
    "    if label in model.wv:\n",
    "        #vectorized_lbls.append(model.wv[label])\n",
    "        print(label)\n",
    "        print(vectorized_lbls)"
   ]
  },
  {
   "cell_type": "code",
   "execution_count": 35,
   "id": "4befcfc8",
   "metadata": {},
   "outputs": [],
   "source": [
    "def embed(tokens, nlp):\n",
    "    \"\"\"Return the centroid of the embeddings for the given tokens.\n",
    "\n",
    "    Out-of-vocabulary tokens are cast aside. Stop words are also\n",
    "    discarded. An array of 0s is returned if none of the tokens\n",
    "    are valid.\n",
    "\n",
    "    \"\"\"\n",
    "\n",
    "    lexemes = (nlp.vocab[token] for token in tokens)\n",
    "\n",
    "    vectors = np.asarray([\n",
    "        lexeme.vector\n",
    "        for lexeme in lexemes\n",
    "        if lexeme.has_vector\n",
    "        and not lexeme.is_stop\n",
    "        and len(lexeme.text) > 1\n",
    "    ])\n",
    "\n",
    "    if len(vectors) > 0:\n",
    "        centroid = vectors.mean(axis=0)\n",
    "    else:\n",
    "        width = nlp.meta['vectors']['width']  # typically 300\n",
    "        centroid = np.zeros(width)\n",
    "\n",
    "    return centroid"
   ]
  },
  {
   "cell_type": "code",
   "execution_count": 117,
   "id": "806c90f7",
   "metadata": {},
   "outputs": [
    {
     "ename": "AttributeError",
     "evalue": "'generator' object has no attribute 'vector'",
     "output_type": "error",
     "traceback": [
      "\u001b[1;31m---------------------------------------------------------------------------\u001b[0m",
      "\u001b[1;31mAttributeError\u001b[0m                            Traceback (most recent call last)",
      "Cell \u001b[1;32mIn [117], line 2\u001b[0m\n\u001b[0;32m      1\u001b[0m le \u001b[38;5;241m=\u001b[39m (nlp\u001b[38;5;241m.\u001b[39mvocab[label] \u001b[38;5;28;01mfor\u001b[39;00m label \u001b[38;5;129;01min\u001b[39;00m label_names)\n\u001b[1;32m----> 2\u001b[0m \u001b[38;5;28mprint\u001b[39m(le\u001b[38;5;241m.\u001b[39mvector)\n",
      "\u001b[1;31mAttributeError\u001b[0m: 'generator' object has no attribute 'vector'"
     ]
    }
   ],
   "source": [
    "le = (nlp.vocab[label] for label in label_names)\n",
    "print(le.vector)"
   ]
  },
  {
   "cell_type": "code",
   "execution_count": 145,
   "id": "55d32da1",
   "metadata": {},
   "outputs": [
    {
     "data": {
      "text/plain": [
       "(1, 300)"
      ]
     },
     "execution_count": 145,
     "metadata": {},
     "output_type": "execute_result"
    }
   ],
   "source": [
    "label_names = ['ergonomics' 'sliptripfall' 'other']\n",
    "label_vectors = np.asarray([\n",
    "    embed(label.split(' '), nlp)\n",
    "    for label in label_names\n",
    "])\n",
    "label_vectors.shape"
   ]
  },
  {
   "cell_type": "code",
   "execution_count": 143,
   "id": "0faf9d26",
   "metadata": {},
   "outputs": [
    {
     "data": {
      "text/plain": [
       "array([[0., 0., 0., ..., 0., 0., 0.],\n",
       "       [0., 0., 0., ..., 0., 0., 0.],\n",
       "       [0., 0., 0., ..., 0., 0., 0.],\n",
       "       ...,\n",
       "       [0., 0., 0., ..., 0., 0., 0.],\n",
       "       [0., 0., 0., ..., 0., 0., 0.],\n",
       "       [0., 0., 0., ..., 0., 0., 0.]])"
      ]
     },
     "execution_count": 143,
     "metadata": {},
     "output_type": "execute_result"
    }
   ],
   "source": [
    "label_vectors"
   ]
  },
  {
   "cell_type": "code",
   "execution_count": 130,
   "id": "3fcf754e",
   "metadata": {},
   "outputs": [
    {
     "name": "stdout",
     "output_type": "stream",
     "text": [
      "['ergonomics', 'sliptripfall', 'other']\n"
     ]
    }
   ],
   "source": [
    "print([item for current in label_names for item in current.split(',')])"
   ]
  },
  {
   "cell_type": "code",
   "execution_count": 140,
   "id": "c5e8314e",
   "metadata": {},
   "outputs": [
    {
     "data": {
      "text/plain": [
       "'ergonomics sliptripfall other'"
      ]
     },
     "execution_count": 140,
     "metadata": {},
     "output_type": "execute_result"
    }
   ],
   "source": [
    "label_names"
   ]
  },
  {
   "cell_type": "code",
   "execution_count": 135,
   "id": "90b1962b",
   "metadata": {},
   "outputs": [
    {
     "ename": "AttributeError",
     "evalue": "'list' object has no attribute 'str'",
     "output_type": "error",
     "traceback": [
      "\u001b[1;31m---------------------------------------------------------------------------\u001b[0m",
      "\u001b[1;31mAttributeError\u001b[0m                            Traceback (most recent call last)",
      "Cell \u001b[1;32mIn [135], line 2\u001b[0m\n\u001b[0;32m      1\u001b[0m label_names \u001b[38;5;241m=\u001b[39m [\u001b[38;5;124m'\u001b[39m\u001b[38;5;124mergonomics\u001b[39m\u001b[38;5;124m'\u001b[39m,\u001b[38;5;124m'\u001b[39m\u001b[38;5;124msliptripfall\u001b[39m\u001b[38;5;124m'\u001b[39m,\u001b[38;5;124m'\u001b[39m\u001b[38;5;124mother\u001b[39m\u001b[38;5;124m'\u001b[39m]\n\u001b[1;32m----> 2\u001b[0m label_vectors \u001b[38;5;241m=\u001b[39m np\u001b[38;5;241m.\u001b[39masarray([embed(label\u001b[38;5;241m.\u001b[39msplit(\u001b[38;5;124m'\u001b[39m\u001b[38;5;124m \u001b[39m\u001b[38;5;124m'\u001b[39m), nlp) \u001b[38;5;28;01mfor\u001b[39;00m label \u001b[38;5;129;01min\u001b[39;00m label_names\u001b[38;5;241m.\u001b[39mstr])\n\u001b[0;32m      3\u001b[0m label_vectors\u001b[38;5;241m.\u001b[39mshape\n",
      "\u001b[1;31mAttributeError\u001b[0m: 'list' object has no attribute 'str'"
     ]
    }
   ],
   "source": [
    "label_names = ['ergonomics','sliptripfall','other']\n",
    "label_vectors = np.asarray([embed(label.split(' '), nlp) for label in label_names.str])\n",
    "label_vectors.shape"
   ]
  },
  {
   "cell_type": "code",
   "execution_count": 125,
   "id": "44e23502",
   "metadata": {},
   "outputs": [
    {
     "data": {
      "text/plain": [
       "array([[-3.23149991,  1.39170003,  0.61522001,  1.24890006,  1.30079997,\n",
       "         0.34608001, -0.42649999,  2.47309995, -1.6142    ,  0.17183   ,\n",
       "         3.1861999 ,  1.09389997, -5.05770016,  0.65094   , -0.44475999,\n",
       "         4.7196002 ,  4.15439987,  0.76629001, -3.30240011, -1.20410001,\n",
       "        -1.37010002,  0.41666999,  0.16638   ,  1.2306    , -0.95186001,\n",
       "        -1.2507    , -1.23740005, -0.89238   , -1.50530005,  0.26585999,\n",
       "        -1.1013    , -1.23699999,  2.91829991, -1.77740002, -0.085541  ,\n",
       "         0.072318  ,  2.81509995, -0.15484001,  0.72745001,  1.45640004,\n",
       "         2.03069997,  0.96011001, -1.02540004, -1.34809995,  0.19598   ,\n",
       "        -0.19997001, -1.18040001, -2.09579992, -0.44082001, -5.31619978,\n",
       "         1.90470004, -0.12857001, -0.35438001, -1.43079996,  0.14883   ,\n",
       "         1.15690005, -1.73619998,  3.42499995, -1.4993    ,  0.93362999,\n",
       "         0.69845998,  0.98834997, -0.26402   , -1.41960001,  1.2902    ,\n",
       "         1.31850004, -0.86610001, -4.1704998 ,  0.90535998,  0.54417998,\n",
       "        -2.57920003, -0.016687  ,  0.13031   , -1.93420005, -0.75240999,\n",
       "         0.93717003, -2.40079999, -2.11549997, -1.55770004, -1.36699998,\n",
       "        -2.0632    , -0.53188998, -1.67250001, -0.95941001,  0.83728999,\n",
       "        -1.47490001,  0.18156999, -0.31198001,  0.72101003,  0.98133999,\n",
       "        -0.87471998,  1.83500004,  1.53799999, -2.41729999, -0.73518997,\n",
       "         1.76049995, -3.79410005,  0.40632001,  1.52590001,  3.03859997,\n",
       "        -0.78762001,  1.61459994,  1.89409995,  2.0545001 ,  0.89203   ,\n",
       "         3.42700005, -0.20310999, -2.65129995, -1.29359996,  0.54057002,\n",
       "         1.93359995, -3.28369999, -0.51966   , -0.65069002, -0.39370999,\n",
       "         0.97680002, -0.012158  ,  0.52999002, -0.73110998, -0.76925999,\n",
       "        -1.17050004,  0.72036999,  2.2276001 , -1.20940006,  1.58350003,\n",
       "        -1.41530001, -0.13358   , -1.45949996,  1.2256    , -3.12380004,\n",
       "        -3.73320007,  0.04183   ,  2.99300003,  1.3506    , -1.82149994,\n",
       "        -2.33389997, -1.06309998, -2.25      ,  0.87374997,  3.42680001,\n",
       "         3.46889997, -3.15809989,  0.033208  ,  0.74414003,  2.60159993,\n",
       "         2.99600005,  0.45192999,  2.23510003, -0.32282001,  1.6767    ,\n",
       "         2.3592    , -0.26411   ,  1.70940006,  0.16745999,  0.070076  ,\n",
       "         1.10080004,  1.55509996,  1.13460004, -0.035672  , -3.25040007,\n",
       "        -0.80089998,  0.81673998,  3.63669991,  0.92096001, -0.77934998,\n",
       "        -0.91241002, -0.16199   , -0.59636998, -0.88305998, -2.28329992,\n",
       "         0.87834001, -0.57365   ,  1.64569998,  0.99144   ,  1.36570001,\n",
       "        -0.18921   ,  0.84827   ,  1.1832    , -1.19389999, -1.90830004,\n",
       "        -2.26370001,  3.67490005,  1.99329996, -4.53669977, -2.71329999,\n",
       "         1.66480005,  0.15699001, -3.01379991, -1.22839999,  0.49092001,\n",
       "         1.7615    ,  1.02390003,  1.005     , -0.77535999,  1.47529995,\n",
       "         0.35113001, -2.19580007, -0.84175998,  4.11490011, -0.73953003,\n",
       "        -0.19201   ,  0.79359001, -1.01989996,  1.19420004,  3.46339989,\n",
       "         0.29258001, -3.98819995,  2.43120003,  3.18400002, -2.77670002,\n",
       "         2.53489995,  0.54784   ,  0.61137998, -0.02385   , -3.62930012,\n",
       "         0.069957  ,  2.81150007, -2.52909994,  0.38011   ,  0.93067998,\n",
       "        -0.65279001,  3.45619988, -4.34889984,  1.80079997,  0.74111003,\n",
       "         0.28999001,  0.27342999,  2.36789989,  1.06649995, -1.84370005,\n",
       "        -1.09130001, -2.9921    ,  2.51480007, -0.54233003, -0.80798   ,\n",
       "         1.62059999,  2.34540009,  0.80800003, -0.27664   ,  4.23850012,\n",
       "        -0.06791   , -1.71580005,  2.39190006,  2.52839994, -0.48728001,\n",
       "        -3.8526001 ,  0.19584   ,  2.8053    , -3.48860002, -1.79419994,\n",
       "         0.58942002,  0.71754998, -2.04060006, -1.56729996, -1.95780003,\n",
       "        -1.32840002,  0.20456   , -0.16847999,  1.80239999, -1.33829999,\n",
       "        -1.82369995, -0.35385999,  1.92680001,  1.11950004,  0.99544001,\n",
       "        -1.58710003, -1.5201    ,  0.49437001,  0.33586001,  0.32378   ,\n",
       "        -1.42349994, -1.17850006,  1.38090003,  0.40397999,  0.59763998,\n",
       "        -3.5697    , -0.87377   , -0.74293   , -2.81200004,  0.041301  ,\n",
       "         2.54410005,  1.66149998,  2.49909997, -0.30755001,  3.0710001 ,\n",
       "         0.0072988 ,  1.10430002,  1.10790002, -1.07959998, -1.10399997,\n",
       "        -0.21366   , -2.93070006,  0.55298001, -0.22284999, -1.39240003,\n",
       "        -0.088985  , -0.97886997, -1.86010003, -0.16769999, -0.29787999],\n",
       "       [ 0.        ,  0.        ,  0.        ,  0.        ,  0.        ,\n",
       "         0.        ,  0.        ,  0.        ,  0.        ,  0.        ,\n",
       "         0.        ,  0.        ,  0.        ,  0.        ,  0.        ,\n",
       "         0.        ,  0.        ,  0.        ,  0.        ,  0.        ,\n",
       "         0.        ,  0.        ,  0.        ,  0.        ,  0.        ,\n",
       "         0.        ,  0.        ,  0.        ,  0.        ,  0.        ,\n",
       "         0.        ,  0.        ,  0.        ,  0.        ,  0.        ,\n",
       "         0.        ,  0.        ,  0.        ,  0.        ,  0.        ,\n",
       "         0.        ,  0.        ,  0.        ,  0.        ,  0.        ,\n",
       "         0.        ,  0.        ,  0.        ,  0.        ,  0.        ,\n",
       "         0.        ,  0.        ,  0.        ,  0.        ,  0.        ,\n",
       "         0.        ,  0.        ,  0.        ,  0.        ,  0.        ,\n",
       "         0.        ,  0.        ,  0.        ,  0.        ,  0.        ,\n",
       "         0.        ,  0.        ,  0.        ,  0.        ,  0.        ,\n",
       "         0.        ,  0.        ,  0.        ,  0.        ,  0.        ,\n",
       "         0.        ,  0.        ,  0.        ,  0.        ,  0.        ,\n",
       "         0.        ,  0.        ,  0.        ,  0.        ,  0.        ,\n",
       "         0.        ,  0.        ,  0.        ,  0.        ,  0.        ,\n",
       "         0.        ,  0.        ,  0.        ,  0.        ,  0.        ,\n",
       "         0.        ,  0.        ,  0.        ,  0.        ,  0.        ,\n",
       "         0.        ,  0.        ,  0.        ,  0.        ,  0.        ,\n",
       "         0.        ,  0.        ,  0.        ,  0.        ,  0.        ,\n",
       "         0.        ,  0.        ,  0.        ,  0.        ,  0.        ,\n",
       "         0.        ,  0.        ,  0.        ,  0.        ,  0.        ,\n",
       "         0.        ,  0.        ,  0.        ,  0.        ,  0.        ,\n",
       "         0.        ,  0.        ,  0.        ,  0.        ,  0.        ,\n",
       "         0.        ,  0.        ,  0.        ,  0.        ,  0.        ,\n",
       "         0.        ,  0.        ,  0.        ,  0.        ,  0.        ,\n",
       "         0.        ,  0.        ,  0.        ,  0.        ,  0.        ,\n",
       "         0.        ,  0.        ,  0.        ,  0.        ,  0.        ,\n",
       "         0.        ,  0.        ,  0.        ,  0.        ,  0.        ,\n",
       "         0.        ,  0.        ,  0.        ,  0.        ,  0.        ,\n",
       "         0.        ,  0.        ,  0.        ,  0.        ,  0.        ,\n",
       "         0.        ,  0.        ,  0.        ,  0.        ,  0.        ,\n",
       "         0.        ,  0.        ,  0.        ,  0.        ,  0.        ,\n",
       "         0.        ,  0.        ,  0.        ,  0.        ,  0.        ,\n",
       "         0.        ,  0.        ,  0.        ,  0.        ,  0.        ,\n",
       "         0.        ,  0.        ,  0.        ,  0.        ,  0.        ,\n",
       "         0.        ,  0.        ,  0.        ,  0.        ,  0.        ,\n",
       "         0.        ,  0.        ,  0.        ,  0.        ,  0.        ,\n",
       "         0.        ,  0.        ,  0.        ,  0.        ,  0.        ,\n",
       "         0.        ,  0.        ,  0.        ,  0.        ,  0.        ,\n",
       "         0.        ,  0.        ,  0.        ,  0.        ,  0.        ,\n",
       "         0.        ,  0.        ,  0.        ,  0.        ,  0.        ,\n",
       "         0.        ,  0.        ,  0.        ,  0.        ,  0.        ,\n",
       "         0.        ,  0.        ,  0.        ,  0.        ,  0.        ,\n",
       "         0.        ,  0.        ,  0.        ,  0.        ,  0.        ,\n",
       "         0.        ,  0.        ,  0.        ,  0.        ,  0.        ,\n",
       "         0.        ,  0.        ,  0.        ,  0.        ,  0.        ,\n",
       "         0.        ,  0.        ,  0.        ,  0.        ,  0.        ,\n",
       "         0.        ,  0.        ,  0.        ,  0.        ,  0.        ,\n",
       "         0.        ,  0.        ,  0.        ,  0.        ,  0.        ,\n",
       "         0.        ,  0.        ,  0.        ,  0.        ,  0.        ,\n",
       "         0.        ,  0.        ,  0.        ,  0.        ,  0.        ,\n",
       "         0.        ,  0.        ,  0.        ,  0.        ,  0.        ,\n",
       "         0.        ,  0.        ,  0.        ,  0.        ,  0.        ,\n",
       "         0.        ,  0.        ,  0.        ,  0.        ,  0.        ,\n",
       "         0.        ,  0.        ,  0.        ,  0.        ,  0.        ,\n",
       "         0.        ,  0.        ,  0.        ,  0.        ,  0.        ,\n",
       "         0.        ,  0.        ,  0.        ,  0.        ,  0.        ],\n",
       "       [ 0.        ,  0.        ,  0.        ,  0.        ,  0.        ,\n",
       "         0.        ,  0.        ,  0.        ,  0.        ,  0.        ,\n",
       "         0.        ,  0.        ,  0.        ,  0.        ,  0.        ,\n",
       "         0.        ,  0.        ,  0.        ,  0.        ,  0.        ,\n",
       "         0.        ,  0.        ,  0.        ,  0.        ,  0.        ,\n",
       "         0.        ,  0.        ,  0.        ,  0.        ,  0.        ,\n",
       "         0.        ,  0.        ,  0.        ,  0.        ,  0.        ,\n",
       "         0.        ,  0.        ,  0.        ,  0.        ,  0.        ,\n",
       "         0.        ,  0.        ,  0.        ,  0.        ,  0.        ,\n",
       "         0.        ,  0.        ,  0.        ,  0.        ,  0.        ,\n",
       "         0.        ,  0.        ,  0.        ,  0.        ,  0.        ,\n",
       "         0.        ,  0.        ,  0.        ,  0.        ,  0.        ,\n",
       "         0.        ,  0.        ,  0.        ,  0.        ,  0.        ,\n",
       "         0.        ,  0.        ,  0.        ,  0.        ,  0.        ,\n",
       "         0.        ,  0.        ,  0.        ,  0.        ,  0.        ,\n",
       "         0.        ,  0.        ,  0.        ,  0.        ,  0.        ,\n",
       "         0.        ,  0.        ,  0.        ,  0.        ,  0.        ,\n",
       "         0.        ,  0.        ,  0.        ,  0.        ,  0.        ,\n",
       "         0.        ,  0.        ,  0.        ,  0.        ,  0.        ,\n",
       "         0.        ,  0.        ,  0.        ,  0.        ,  0.        ,\n",
       "         0.        ,  0.        ,  0.        ,  0.        ,  0.        ,\n",
       "         0.        ,  0.        ,  0.        ,  0.        ,  0.        ,\n",
       "         0.        ,  0.        ,  0.        ,  0.        ,  0.        ,\n",
       "         0.        ,  0.        ,  0.        ,  0.        ,  0.        ,\n",
       "         0.        ,  0.        ,  0.        ,  0.        ,  0.        ,\n",
       "         0.        ,  0.        ,  0.        ,  0.        ,  0.        ,\n",
       "         0.        ,  0.        ,  0.        ,  0.        ,  0.        ,\n",
       "         0.        ,  0.        ,  0.        ,  0.        ,  0.        ,\n",
       "         0.        ,  0.        ,  0.        ,  0.        ,  0.        ,\n",
       "         0.        ,  0.        ,  0.        ,  0.        ,  0.        ,\n",
       "         0.        ,  0.        ,  0.        ,  0.        ,  0.        ,\n",
       "         0.        ,  0.        ,  0.        ,  0.        ,  0.        ,\n",
       "         0.        ,  0.        ,  0.        ,  0.        ,  0.        ,\n",
       "         0.        ,  0.        ,  0.        ,  0.        ,  0.        ,\n",
       "         0.        ,  0.        ,  0.        ,  0.        ,  0.        ,\n",
       "         0.        ,  0.        ,  0.        ,  0.        ,  0.        ,\n",
       "         0.        ,  0.        ,  0.        ,  0.        ,  0.        ,\n",
       "         0.        ,  0.        ,  0.        ,  0.        ,  0.        ,\n",
       "         0.        ,  0.        ,  0.        ,  0.        ,  0.        ,\n",
       "         0.        ,  0.        ,  0.        ,  0.        ,  0.        ,\n",
       "         0.        ,  0.        ,  0.        ,  0.        ,  0.        ,\n",
       "         0.        ,  0.        ,  0.        ,  0.        ,  0.        ,\n",
       "         0.        ,  0.        ,  0.        ,  0.        ,  0.        ,\n",
       "         0.        ,  0.        ,  0.        ,  0.        ,  0.        ,\n",
       "         0.        ,  0.        ,  0.        ,  0.        ,  0.        ,\n",
       "         0.        ,  0.        ,  0.        ,  0.        ,  0.        ,\n",
       "         0.        ,  0.        ,  0.        ,  0.        ,  0.        ,\n",
       "         0.        ,  0.        ,  0.        ,  0.        ,  0.        ,\n",
       "         0.        ,  0.        ,  0.        ,  0.        ,  0.        ,\n",
       "         0.        ,  0.        ,  0.        ,  0.        ,  0.        ,\n",
       "         0.        ,  0.        ,  0.        ,  0.        ,  0.        ,\n",
       "         0.        ,  0.        ,  0.        ,  0.        ,  0.        ,\n",
       "         0.        ,  0.        ,  0.        ,  0.        ,  0.        ,\n",
       "         0.        ,  0.        ,  0.        ,  0.        ,  0.        ,\n",
       "         0.        ,  0.        ,  0.        ,  0.        ,  0.        ,\n",
       "         0.        ,  0.        ,  0.        ,  0.        ,  0.        ,\n",
       "         0.        ,  0.        ,  0.        ,  0.        ,  0.        ,\n",
       "         0.        ,  0.        ,  0.        ,  0.        ,  0.        ,\n",
       "         0.        ,  0.        ,  0.        ,  0.        ,  0.        ,\n",
       "         0.        ,  0.        ,  0.        ,  0.        ,  0.        ]])"
      ]
     },
     "execution_count": 125,
     "metadata": {},
     "output_type": "execute_result"
    }
   ],
   "source": [
    "label_vectors"
   ]
  },
  {
   "cell_type": "code",
   "execution_count": 106,
   "id": "a2b1399c",
   "metadata": {},
   "outputs": [
    {
     "data": {
      "text/plain": [
       "array([[-3.23149991,  1.39170003,  0.61522001,  1.24890006,  1.30079997,\n",
       "         0.34608001, -0.42649999,  2.47309995, -1.6142    ,  0.17183   ,\n",
       "         3.1861999 ,  1.09389997, -5.05770016,  0.65094   , -0.44475999,\n",
       "         4.7196002 ,  4.15439987,  0.76629001, -3.30240011, -1.20410001,\n",
       "        -1.37010002,  0.41666999,  0.16638   ,  1.2306    , -0.95186001,\n",
       "        -1.2507    , -1.23740005, -0.89238   , -1.50530005,  0.26585999,\n",
       "        -1.1013    , -1.23699999,  2.91829991, -1.77740002, -0.085541  ,\n",
       "         0.072318  ,  2.81509995, -0.15484001,  0.72745001,  1.45640004,\n",
       "         2.03069997,  0.96011001, -1.02540004, -1.34809995,  0.19598   ,\n",
       "        -0.19997001, -1.18040001, -2.09579992, -0.44082001, -5.31619978,\n",
       "         1.90470004, -0.12857001, -0.35438001, -1.43079996,  0.14883   ,\n",
       "         1.15690005, -1.73619998,  3.42499995, -1.4993    ,  0.93362999,\n",
       "         0.69845998,  0.98834997, -0.26402   , -1.41960001,  1.2902    ,\n",
       "         1.31850004, -0.86610001, -4.1704998 ,  0.90535998,  0.54417998,\n",
       "        -2.57920003, -0.016687  ,  0.13031   , -1.93420005, -0.75240999,\n",
       "         0.93717003, -2.40079999, -2.11549997, -1.55770004, -1.36699998,\n",
       "        -2.0632    , -0.53188998, -1.67250001, -0.95941001,  0.83728999,\n",
       "        -1.47490001,  0.18156999, -0.31198001,  0.72101003,  0.98133999,\n",
       "        -0.87471998,  1.83500004,  1.53799999, -2.41729999, -0.73518997,\n",
       "         1.76049995, -3.79410005,  0.40632001,  1.52590001,  3.03859997,\n",
       "        -0.78762001,  1.61459994,  1.89409995,  2.0545001 ,  0.89203   ,\n",
       "         3.42700005, -0.20310999, -2.65129995, -1.29359996,  0.54057002,\n",
       "         1.93359995, -3.28369999, -0.51966   , -0.65069002, -0.39370999,\n",
       "         0.97680002, -0.012158  ,  0.52999002, -0.73110998, -0.76925999,\n",
       "        -1.17050004,  0.72036999,  2.2276001 , -1.20940006,  1.58350003,\n",
       "        -1.41530001, -0.13358   , -1.45949996,  1.2256    , -3.12380004,\n",
       "        -3.73320007,  0.04183   ,  2.99300003,  1.3506    , -1.82149994,\n",
       "        -2.33389997, -1.06309998, -2.25      ,  0.87374997,  3.42680001,\n",
       "         3.46889997, -3.15809989,  0.033208  ,  0.74414003,  2.60159993,\n",
       "         2.99600005,  0.45192999,  2.23510003, -0.32282001,  1.6767    ,\n",
       "         2.3592    , -0.26411   ,  1.70940006,  0.16745999,  0.070076  ,\n",
       "         1.10080004,  1.55509996,  1.13460004, -0.035672  , -3.25040007,\n",
       "        -0.80089998,  0.81673998,  3.63669991,  0.92096001, -0.77934998,\n",
       "        -0.91241002, -0.16199   , -0.59636998, -0.88305998, -2.28329992,\n",
       "         0.87834001, -0.57365   ,  1.64569998,  0.99144   ,  1.36570001,\n",
       "        -0.18921   ,  0.84827   ,  1.1832    , -1.19389999, -1.90830004,\n",
       "        -2.26370001,  3.67490005,  1.99329996, -4.53669977, -2.71329999,\n",
       "         1.66480005,  0.15699001, -3.01379991, -1.22839999,  0.49092001,\n",
       "         1.7615    ,  1.02390003,  1.005     , -0.77535999,  1.47529995,\n",
       "         0.35113001, -2.19580007, -0.84175998,  4.11490011, -0.73953003,\n",
       "        -0.19201   ,  0.79359001, -1.01989996,  1.19420004,  3.46339989,\n",
       "         0.29258001, -3.98819995,  2.43120003,  3.18400002, -2.77670002,\n",
       "         2.53489995,  0.54784   ,  0.61137998, -0.02385   , -3.62930012,\n",
       "         0.069957  ,  2.81150007, -2.52909994,  0.38011   ,  0.93067998,\n",
       "        -0.65279001,  3.45619988, -4.34889984,  1.80079997,  0.74111003,\n",
       "         0.28999001,  0.27342999,  2.36789989,  1.06649995, -1.84370005,\n",
       "        -1.09130001, -2.9921    ,  2.51480007, -0.54233003, -0.80798   ,\n",
       "         1.62059999,  2.34540009,  0.80800003, -0.27664   ,  4.23850012,\n",
       "        -0.06791   , -1.71580005,  2.39190006,  2.52839994, -0.48728001,\n",
       "        -3.8526001 ,  0.19584   ,  2.8053    , -3.48860002, -1.79419994,\n",
       "         0.58942002,  0.71754998, -2.04060006, -1.56729996, -1.95780003,\n",
       "        -1.32840002,  0.20456   , -0.16847999,  1.80239999, -1.33829999,\n",
       "        -1.82369995, -0.35385999,  1.92680001,  1.11950004,  0.99544001,\n",
       "        -1.58710003, -1.5201    ,  0.49437001,  0.33586001,  0.32378   ,\n",
       "        -1.42349994, -1.17850006,  1.38090003,  0.40397999,  0.59763998,\n",
       "        -3.5697    , -0.87377   , -0.74293   , -2.81200004,  0.041301  ,\n",
       "         2.54410005,  1.66149998,  2.49909997, -0.30755001,  3.0710001 ,\n",
       "         0.0072988 ,  1.10430002,  1.10790002, -1.07959998, -1.10399997,\n",
       "        -0.21366   , -2.93070006,  0.55298001, -0.22284999, -1.39240003,\n",
       "        -0.088985  , -0.97886997, -1.86010003, -0.16769999, -0.29787999],\n",
       "       [ 0.        ,  0.        ,  0.        ,  0.        ,  0.        ,\n",
       "         0.        ,  0.        ,  0.        ,  0.        ,  0.        ,\n",
       "         0.        ,  0.        ,  0.        ,  0.        ,  0.        ,\n",
       "         0.        ,  0.        ,  0.        ,  0.        ,  0.        ,\n",
       "         0.        ,  0.        ,  0.        ,  0.        ,  0.        ,\n",
       "         0.        ,  0.        ,  0.        ,  0.        ,  0.        ,\n",
       "         0.        ,  0.        ,  0.        ,  0.        ,  0.        ,\n",
       "         0.        ,  0.        ,  0.        ,  0.        ,  0.        ,\n",
       "         0.        ,  0.        ,  0.        ,  0.        ,  0.        ,\n",
       "         0.        ,  0.        ,  0.        ,  0.        ,  0.        ,\n",
       "         0.        ,  0.        ,  0.        ,  0.        ,  0.        ,\n",
       "         0.        ,  0.        ,  0.        ,  0.        ,  0.        ,\n",
       "         0.        ,  0.        ,  0.        ,  0.        ,  0.        ,\n",
       "         0.        ,  0.        ,  0.        ,  0.        ,  0.        ,\n",
       "         0.        ,  0.        ,  0.        ,  0.        ,  0.        ,\n",
       "         0.        ,  0.        ,  0.        ,  0.        ,  0.        ,\n",
       "         0.        ,  0.        ,  0.        ,  0.        ,  0.        ,\n",
       "         0.        ,  0.        ,  0.        ,  0.        ,  0.        ,\n",
       "         0.        ,  0.        ,  0.        ,  0.        ,  0.        ,\n",
       "         0.        ,  0.        ,  0.        ,  0.        ,  0.        ,\n",
       "         0.        ,  0.        ,  0.        ,  0.        ,  0.        ,\n",
       "         0.        ,  0.        ,  0.        ,  0.        ,  0.        ,\n",
       "         0.        ,  0.        ,  0.        ,  0.        ,  0.        ,\n",
       "         0.        ,  0.        ,  0.        ,  0.        ,  0.        ,\n",
       "         0.        ,  0.        ,  0.        ,  0.        ,  0.        ,\n",
       "         0.        ,  0.        ,  0.        ,  0.        ,  0.        ,\n",
       "         0.        ,  0.        ,  0.        ,  0.        ,  0.        ,\n",
       "         0.        ,  0.        ,  0.        ,  0.        ,  0.        ,\n",
       "         0.        ,  0.        ,  0.        ,  0.        ,  0.        ,\n",
       "         0.        ,  0.        ,  0.        ,  0.        ,  0.        ,\n",
       "         0.        ,  0.        ,  0.        ,  0.        ,  0.        ,\n",
       "         0.        ,  0.        ,  0.        ,  0.        ,  0.        ,\n",
       "         0.        ,  0.        ,  0.        ,  0.        ,  0.        ,\n",
       "         0.        ,  0.        ,  0.        ,  0.        ,  0.        ,\n",
       "         0.        ,  0.        ,  0.        ,  0.        ,  0.        ,\n",
       "         0.        ,  0.        ,  0.        ,  0.        ,  0.        ,\n",
       "         0.        ,  0.        ,  0.        ,  0.        ,  0.        ,\n",
       "         0.        ,  0.        ,  0.        ,  0.        ,  0.        ,\n",
       "         0.        ,  0.        ,  0.        ,  0.        ,  0.        ,\n",
       "         0.        ,  0.        ,  0.        ,  0.        ,  0.        ,\n",
       "         0.        ,  0.        ,  0.        ,  0.        ,  0.        ,\n",
       "         0.        ,  0.        ,  0.        ,  0.        ,  0.        ,\n",
       "         0.        ,  0.        ,  0.        ,  0.        ,  0.        ,\n",
       "         0.        ,  0.        ,  0.        ,  0.        ,  0.        ,\n",
       "         0.        ,  0.        ,  0.        ,  0.        ,  0.        ,\n",
       "         0.        ,  0.        ,  0.        ,  0.        ,  0.        ,\n",
       "         0.        ,  0.        ,  0.        ,  0.        ,  0.        ,\n",
       "         0.        ,  0.        ,  0.        ,  0.        ,  0.        ,\n",
       "         0.        ,  0.        ,  0.        ,  0.        ,  0.        ,\n",
       "         0.        ,  0.        ,  0.        ,  0.        ,  0.        ,\n",
       "         0.        ,  0.        ,  0.        ,  0.        ,  0.        ,\n",
       "         0.        ,  0.        ,  0.        ,  0.        ,  0.        ,\n",
       "         0.        ,  0.        ,  0.        ,  0.        ,  0.        ,\n",
       "         0.        ,  0.        ,  0.        ,  0.        ,  0.        ,\n",
       "         0.        ,  0.        ,  0.        ,  0.        ,  0.        ,\n",
       "         0.        ,  0.        ,  0.        ,  0.        ,  0.        ,\n",
       "         0.        ,  0.        ,  0.        ,  0.        ,  0.        ,\n",
       "         0.        ,  0.        ,  0.        ,  0.        ,  0.        ,\n",
       "         0.        ,  0.        ,  0.        ,  0.        ,  0.        ,\n",
       "         0.        ,  0.        ,  0.        ,  0.        ,  0.        ],\n",
       "       [ 0.        ,  0.        ,  0.        ,  0.        ,  0.        ,\n",
       "         0.        ,  0.        ,  0.        ,  0.        ,  0.        ,\n",
       "         0.        ,  0.        ,  0.        ,  0.        ,  0.        ,\n",
       "         0.        ,  0.        ,  0.        ,  0.        ,  0.        ,\n",
       "         0.        ,  0.        ,  0.        ,  0.        ,  0.        ,\n",
       "         0.        ,  0.        ,  0.        ,  0.        ,  0.        ,\n",
       "         0.        ,  0.        ,  0.        ,  0.        ,  0.        ,\n",
       "         0.        ,  0.        ,  0.        ,  0.        ,  0.        ,\n",
       "         0.        ,  0.        ,  0.        ,  0.        ,  0.        ,\n",
       "         0.        ,  0.        ,  0.        ,  0.        ,  0.        ,\n",
       "         0.        ,  0.        ,  0.        ,  0.        ,  0.        ,\n",
       "         0.        ,  0.        ,  0.        ,  0.        ,  0.        ,\n",
       "         0.        ,  0.        ,  0.        ,  0.        ,  0.        ,\n",
       "         0.        ,  0.        ,  0.        ,  0.        ,  0.        ,\n",
       "         0.        ,  0.        ,  0.        ,  0.        ,  0.        ,\n",
       "         0.        ,  0.        ,  0.        ,  0.        ,  0.        ,\n",
       "         0.        ,  0.        ,  0.        ,  0.        ,  0.        ,\n",
       "         0.        ,  0.        ,  0.        ,  0.        ,  0.        ,\n",
       "         0.        ,  0.        ,  0.        ,  0.        ,  0.        ,\n",
       "         0.        ,  0.        ,  0.        ,  0.        ,  0.        ,\n",
       "         0.        ,  0.        ,  0.        ,  0.        ,  0.        ,\n",
       "         0.        ,  0.        ,  0.        ,  0.        ,  0.        ,\n",
       "         0.        ,  0.        ,  0.        ,  0.        ,  0.        ,\n",
       "         0.        ,  0.        ,  0.        ,  0.        ,  0.        ,\n",
       "         0.        ,  0.        ,  0.        ,  0.        ,  0.        ,\n",
       "         0.        ,  0.        ,  0.        ,  0.        ,  0.        ,\n",
       "         0.        ,  0.        ,  0.        ,  0.        ,  0.        ,\n",
       "         0.        ,  0.        ,  0.        ,  0.        ,  0.        ,\n",
       "         0.        ,  0.        ,  0.        ,  0.        ,  0.        ,\n",
       "         0.        ,  0.        ,  0.        ,  0.        ,  0.        ,\n",
       "         0.        ,  0.        ,  0.        ,  0.        ,  0.        ,\n",
       "         0.        ,  0.        ,  0.        ,  0.        ,  0.        ,\n",
       "         0.        ,  0.        ,  0.        ,  0.        ,  0.        ,\n",
       "         0.        ,  0.        ,  0.        ,  0.        ,  0.        ,\n",
       "         0.        ,  0.        ,  0.        ,  0.        ,  0.        ,\n",
       "         0.        ,  0.        ,  0.        ,  0.        ,  0.        ,\n",
       "         0.        ,  0.        ,  0.        ,  0.        ,  0.        ,\n",
       "         0.        ,  0.        ,  0.        ,  0.        ,  0.        ,\n",
       "         0.        ,  0.        ,  0.        ,  0.        ,  0.        ,\n",
       "         0.        ,  0.        ,  0.        ,  0.        ,  0.        ,\n",
       "         0.        ,  0.        ,  0.        ,  0.        ,  0.        ,\n",
       "         0.        ,  0.        ,  0.        ,  0.        ,  0.        ,\n",
       "         0.        ,  0.        ,  0.        ,  0.        ,  0.        ,\n",
       "         0.        ,  0.        ,  0.        ,  0.        ,  0.        ,\n",
       "         0.        ,  0.        ,  0.        ,  0.        ,  0.        ,\n",
       "         0.        ,  0.        ,  0.        ,  0.        ,  0.        ,\n",
       "         0.        ,  0.        ,  0.        ,  0.        ,  0.        ,\n",
       "         0.        ,  0.        ,  0.        ,  0.        ,  0.        ,\n",
       "         0.        ,  0.        ,  0.        ,  0.        ,  0.        ,\n",
       "         0.        ,  0.        ,  0.        ,  0.        ,  0.        ,\n",
       "         0.        ,  0.        ,  0.        ,  0.        ,  0.        ,\n",
       "         0.        ,  0.        ,  0.        ,  0.        ,  0.        ,\n",
       "         0.        ,  0.        ,  0.        ,  0.        ,  0.        ,\n",
       "         0.        ,  0.        ,  0.        ,  0.        ,  0.        ,\n",
       "         0.        ,  0.        ,  0.        ,  0.        ,  0.        ,\n",
       "         0.        ,  0.        ,  0.        ,  0.        ,  0.        ,\n",
       "         0.        ,  0.        ,  0.        ,  0.        ,  0.        ,\n",
       "         0.        ,  0.        ,  0.        ,  0.        ,  0.        ,\n",
       "         0.        ,  0.        ,  0.        ,  0.        ,  0.        ,\n",
       "         0.        ,  0.        ,  0.        ,  0.        ,  0.        ]])"
      ]
     },
     "execution_count": 106,
     "metadata": {},
     "output_type": "execute_result"
    }
   ],
   "source": [
    "label_vectors"
   ]
  },
  {
   "cell_type": "code",
   "execution_count": 40,
   "id": "9a5df2ce",
   "metadata": {},
   "outputs": [],
   "source": [
    "from sklearn.neighbors import NearestNeighbors\n",
    "#neighbors=NearestNeighbors()"
   ]
  },
  {
   "cell_type": "code",
   "execution_count": 41,
   "id": "24135032",
   "metadata": {},
   "outputs": [
    {
     "data": {
      "text/html": [
       "<style>#sk-container-id-1 {color: black;background-color: white;}#sk-container-id-1 pre{padding: 0;}#sk-container-id-1 div.sk-toggleable {background-color: white;}#sk-container-id-1 label.sk-toggleable__label {cursor: pointer;display: block;width: 100%;margin-bottom: 0;padding: 0.3em;box-sizing: border-box;text-align: center;}#sk-container-id-1 label.sk-toggleable__label-arrow:before {content: \"▸\";float: left;margin-right: 0.25em;color: #696969;}#sk-container-id-1 label.sk-toggleable__label-arrow:hover:before {color: black;}#sk-container-id-1 div.sk-estimator:hover label.sk-toggleable__label-arrow:before {color: black;}#sk-container-id-1 div.sk-toggleable__content {max-height: 0;max-width: 0;overflow: hidden;text-align: left;background-color: #f0f8ff;}#sk-container-id-1 div.sk-toggleable__content pre {margin: 0.2em;color: black;border-radius: 0.25em;background-color: #f0f8ff;}#sk-container-id-1 input.sk-toggleable__control:checked~div.sk-toggleable__content {max-height: 200px;max-width: 100%;overflow: auto;}#sk-container-id-1 input.sk-toggleable__control:checked~label.sk-toggleable__label-arrow:before {content: \"▾\";}#sk-container-id-1 div.sk-estimator input.sk-toggleable__control:checked~label.sk-toggleable__label {background-color: #d4ebff;}#sk-container-id-1 div.sk-label input.sk-toggleable__control:checked~label.sk-toggleable__label {background-color: #d4ebff;}#sk-container-id-1 input.sk-hidden--visually {border: 0;clip: rect(1px 1px 1px 1px);clip: rect(1px, 1px, 1px, 1px);height: 1px;margin: -1px;overflow: hidden;padding: 0;position: absolute;width: 1px;}#sk-container-id-1 div.sk-estimator {font-family: monospace;background-color: #f0f8ff;border: 1px dotted black;border-radius: 0.25em;box-sizing: border-box;margin-bottom: 0.5em;}#sk-container-id-1 div.sk-estimator:hover {background-color: #d4ebff;}#sk-container-id-1 div.sk-parallel-item::after {content: \"\";width: 100%;border-bottom: 1px solid gray;flex-grow: 1;}#sk-container-id-1 div.sk-label:hover label.sk-toggleable__label {background-color: #d4ebff;}#sk-container-id-1 div.sk-serial::before {content: \"\";position: absolute;border-left: 1px solid gray;box-sizing: border-box;top: 0;bottom: 0;left: 50%;z-index: 0;}#sk-container-id-1 div.sk-serial {display: flex;flex-direction: column;align-items: center;background-color: white;padding-right: 0.2em;padding-left: 0.2em;position: relative;}#sk-container-id-1 div.sk-item {position: relative;z-index: 1;}#sk-container-id-1 div.sk-parallel {display: flex;align-items: stretch;justify-content: center;background-color: white;position: relative;}#sk-container-id-1 div.sk-item::before, #sk-container-id-1 div.sk-parallel-item::before {content: \"\";position: absolute;border-left: 1px solid gray;box-sizing: border-box;top: 0;bottom: 0;left: 50%;z-index: -1;}#sk-container-id-1 div.sk-parallel-item {display: flex;flex-direction: column;z-index: 1;position: relative;background-color: white;}#sk-container-id-1 div.sk-parallel-item:first-child::after {align-self: flex-end;width: 50%;}#sk-container-id-1 div.sk-parallel-item:last-child::after {align-self: flex-start;width: 50%;}#sk-container-id-1 div.sk-parallel-item:only-child::after {width: 0;}#sk-container-id-1 div.sk-dashed-wrapped {border: 1px dashed gray;margin: 0 0.4em 0.5em 0.4em;box-sizing: border-box;padding-bottom: 0.4em;background-color: white;}#sk-container-id-1 div.sk-label label {font-family: monospace;font-weight: bold;display: inline-block;line-height: 1.2em;}#sk-container-id-1 div.sk-label-container {text-align: center;}#sk-container-id-1 div.sk-container {/* jupyter's `normalize.less` sets `[hidden] { display: none; }` but bootstrap.min.css set `[hidden] { display: none !important; }` so we also need the `!important` here to be able to override the default hidden behavior on the sphinx rendered scikit-learn.org. See: https://github.com/scikit-learn/scikit-learn/issues/21755 */display: inline-block !important;position: relative;}#sk-container-id-1 div.sk-text-repr-fallback {display: none;}</style><div id=\"sk-container-id-1\" class=\"sk-top-container\"><div class=\"sk-text-repr-fallback\"><pre>NearestNeighbors(n_neighbors=1)</pre><b>In a Jupyter environment, please rerun this cell to show the HTML representation or trust the notebook. <br />On GitHub, the HTML representation is unable to render, please try loading this page with nbviewer.org.</b></div><div class=\"sk-container\" hidden><div class=\"sk-item\"><div class=\"sk-estimator sk-toggleable\"><input class=\"sk-toggleable__control sk-hidden--visually\" id=\"sk-estimator-id-1\" type=\"checkbox\" checked><label for=\"sk-estimator-id-1\" class=\"sk-toggleable__label sk-toggleable__label-arrow\">NearestNeighbors</label><div class=\"sk-toggleable__content\"><pre>NearestNeighbors(n_neighbors=1)</pre></div></div></div></div></div>"
      ],
      "text/plain": [
       "NearestNeighbors(n_neighbors=1)"
      ]
     },
     "execution_count": 41,
     "metadata": {},
     "output_type": "execute_result"
    }
   ],
   "source": [
    "neigh = NearestNeighbors(n_neighbors=1)\n",
    "neigh.fit(label_vectors)\n"
   ]
  },
  {
   "cell_type": "code",
   "execution_count": 53,
   "id": "7a75294d",
   "metadata": {},
   "outputs": [],
   "source": [
    "closest_label = neigh.kneighbors(vectorized_docs, return_distance=False)[5, 0]"
   ]
  },
  {
   "cell_type": "code",
   "execution_count": 54,
   "id": "7eafd83e",
   "metadata": {},
   "outputs": [
    {
     "data": {
      "text/plain": [
       "'sliptripfall'"
      ]
     },
     "execution_count": 54,
     "metadata": {},
     "output_type": "execute_result"
    }
   ],
   "source": [
    "label_names[closest_label]"
   ]
  },
  {
   "cell_type": "code",
   "execution_count": 50,
   "id": "56ad0b40",
   "metadata": {},
   "outputs": [
    {
     "data": {
      "text/plain": [
       "1"
      ]
     },
     "execution_count": 50,
     "metadata": {},
     "output_type": "execute_result"
    }
   ],
   "source": [
    "closest_label"
   ]
  },
  {
   "cell_type": "code",
   "execution_count": 45,
   "id": "9f92b3d2",
   "metadata": {},
   "outputs": [
    {
     "data": {
      "text/plain": [
       "(3, 300)"
      ]
     },
     "execution_count": 45,
     "metadata": {},
     "output_type": "execute_result"
    }
   ],
   "source": [
    "vectorized_lbs = vectorize(label_names, model=model)\n",
    "len(vectorized_lbs), len(vectorized_lbs[0])"
   ]
  },
  {
   "cell_type": "code",
   "execution_count": 46,
   "id": "96961005",
   "metadata": {},
   "outputs": [
    {
     "data": {
      "text/plain": [
       "array([0., 0., 0., 0., 0., 0., 0., 0., 0., 0., 0., 0., 0., 0., 0., 0., 0.,\n",
       "       0., 0., 0., 0., 0., 0., 0., 0., 0., 0., 0., 0., 0., 0., 0., 0., 0.,\n",
       "       0., 0., 0., 0., 0., 0., 0., 0., 0., 0., 0., 0., 0., 0., 0., 0., 0.,\n",
       "       0., 0., 0., 0., 0., 0., 0., 0., 0., 0., 0., 0., 0., 0., 0., 0., 0.,\n",
       "       0., 0., 0., 0., 0., 0., 0., 0., 0., 0., 0., 0., 0., 0., 0., 0., 0.,\n",
       "       0., 0., 0., 0., 0., 0., 0., 0., 0., 0., 0., 0., 0., 0., 0., 0., 0.,\n",
       "       0., 0., 0., 0., 0., 0., 0., 0., 0., 0., 0., 0., 0., 0., 0., 0., 0.,\n",
       "       0., 0., 0., 0., 0., 0., 0., 0., 0., 0., 0., 0., 0., 0., 0., 0., 0.,\n",
       "       0., 0., 0., 0., 0., 0., 0., 0., 0., 0., 0., 0., 0., 0., 0., 0., 0.,\n",
       "       0., 0., 0., 0., 0., 0., 0., 0., 0., 0., 0., 0., 0., 0., 0., 0., 0.,\n",
       "       0., 0., 0., 0., 0., 0., 0., 0., 0., 0., 0., 0., 0., 0., 0., 0., 0.,\n",
       "       0., 0., 0., 0., 0., 0., 0., 0., 0., 0., 0., 0., 0., 0., 0., 0., 0.,\n",
       "       0., 0., 0., 0., 0., 0., 0., 0., 0., 0., 0., 0., 0., 0., 0., 0., 0.,\n",
       "       0., 0., 0., 0., 0., 0., 0., 0., 0., 0., 0., 0., 0., 0., 0., 0., 0.,\n",
       "       0., 0., 0., 0., 0., 0., 0., 0., 0., 0., 0., 0., 0., 0., 0., 0., 0.,\n",
       "       0., 0., 0., 0., 0., 0., 0., 0., 0., 0., 0., 0., 0., 0., 0., 0., 0.,\n",
       "       0., 0., 0., 0., 0., 0., 0., 0., 0., 0., 0., 0., 0., 0., 0., 0., 0.,\n",
       "       0., 0., 0., 0., 0., 0., 0., 0., 0., 0., 0.])"
      ]
     },
     "execution_count": 46,
     "metadata": {},
     "output_type": "execute_result"
    }
   ],
   "source": [
    "vectorized_lbs[0]"
   ]
  },
  {
   "cell_type": "code",
   "execution_count": null,
   "id": "008d29a7",
   "metadata": {},
   "outputs": [],
   "source": []
  }
 ],
 "metadata": {
  "kernelspec": {
   "display_name": "Python 3 (ipykernel)",
   "language": "python",
   "name": "python3"
  },
  "language_info": {
   "codemirror_mode": {
    "name": "ipython",
    "version": 3
   },
   "file_extension": ".py",
   "mimetype": "text/x-python",
   "name": "python",
   "nbconvert_exporter": "python",
   "pygments_lexer": "ipython3",
   "version": "3.10.5"
  }
 },
 "nbformat": 4,
 "nbformat_minor": 5
}
