{
 "cells": [
  {
   "cell_type": "code",
   "execution_count": 2,
   "id": "1a965ac3",
   "metadata": {},
   "outputs": [],
   "source": [
    "import numpy as np\n",
    "import pandas as pd\n",
    "import re\n",
    "from nltk.stem import WordNetLemmatizer\n",
    "from sklearn.model_selection import train_test_split\n",
    "from nltk.corpus import stopwords\n",
    "from sklearn.feature_extraction.text import TfidfVectorizer\n",
    "from sklearn.linear_model import LogisticRegression\n",
    "from sklearn.pipeline import Pipeline\n",
    "stemmer = WordNetLemmatizer()"
   ]
  },
  {
   "cell_type": "code",
   "execution_count": 3,
   "id": "c8f6496e",
   "metadata": {},
   "outputs": [],
   "source": [
    "df_raw = pd.read_excel(\"Injury Triage 2022.xlsx\")\n",
    "#df_raw.head()"
   ]
  },
  {
   "cell_type": "code",
   "execution_count": 4,
   "id": "a534b970",
   "metadata": {},
   "outputs": [],
   "source": [
    "def change_labels(category):\n",
    "    if category[:4].lower() == 'ergo'.lower():\n",
    "        category = \"Ergo\"\n",
    "    else:\n",
    "        category = \"Others\"\n",
    "    return category"
   ]
  },
  {
   "cell_type": "code",
   "execution_count": 5,
   "id": "80970ead",
   "metadata": {},
   "outputs": [
    {
     "data": {
      "text/html": [
       "<div>\n",
       "<style scoped>\n",
       "    .dataframe tbody tr th:only-of-type {\n",
       "        vertical-align: middle;\n",
       "    }\n",
       "\n",
       "    .dataframe tbody tr th {\n",
       "        vertical-align: top;\n",
       "    }\n",
       "\n",
       "    .dataframe thead th {\n",
       "        text-align: right;\n",
       "    }\n",
       "</style>\n",
       "<table border=\"1\" class=\"dataframe\">\n",
       "  <thead>\n",
       "    <tr style=\"text-align: right;\">\n",
       "      <th></th>\n",
       "      <th>Description of Event</th>\n",
       "      <th>ACS Category</th>\n",
       "      <th>Category</th>\n",
       "    </tr>\n",
       "  </thead>\n",
       "  <tbody>\n",
       "    <tr>\n",
       "      <th>0</th>\n",
       "      <td>Had a large family with all heavy bags. pick u...</td>\n",
       "      <td>Ergo - Lobby</td>\n",
       "      <td>Ergo</td>\n",
       "    </tr>\n",
       "    <tr>\n",
       "      <th>1</th>\n",
       "      <td>while loading bags into cart at inbound flight...</td>\n",
       "      <td>Ergo - Ramp Bags</td>\n",
       "      <td>Ergo</td>\n",
       "    </tr>\n",
       "    <tr>\n",
       "      <th>2</th>\n",
       "      <td>Agent was walking up and down stairs in bagroo...</td>\n",
       "      <td>Stepping Up</td>\n",
       "      <td>Others</td>\n",
       "    </tr>\n",
       "    <tr>\n",
       "      <th>3</th>\n",
       "      <td>On July 23, 2021 at approximately 0630, the EE...</td>\n",
       "      <td>Stepping Up</td>\n",
       "      <td>Others</td>\n",
       "    </tr>\n",
       "    <tr>\n",
       "      <th>4</th>\n",
       "      <td>Agent was assisting a passenger deplaning from...</td>\n",
       "      <td>Stepping Down</td>\n",
       "      <td>Others</td>\n",
       "    </tr>\n",
       "  </tbody>\n",
       "</table>\n",
       "</div>"
      ],
      "text/plain": [
       "                                Description of Event      ACS Category  \\\n",
       "0  Had a large family with all heavy bags. pick u...      Ergo - Lobby   \n",
       "1  while loading bags into cart at inbound flight...  Ergo - Ramp Bags   \n",
       "2  Agent was walking up and down stairs in bagroo...      Stepping Up    \n",
       "3  On July 23, 2021 at approximately 0630, the EE...       Stepping Up   \n",
       "4  Agent was assisting a passenger deplaning from...     Stepping Down   \n",
       "\n",
       "  Category  \n",
       "0     Ergo  \n",
       "1     Ergo  \n",
       "2   Others  \n",
       "3   Others  \n",
       "4   Others  "
      ]
     },
     "execution_count": 5,
     "metadata": {},
     "output_type": "execute_result"
    }
   ],
   "source": [
    "df=df_raw[['Description of Event','ACS Category']].copy()\n",
    "df['Category'] = df['ACS Category'].apply(change_labels)\n",
    "#df.head()"
   ]
  },
  {
   "cell_type": "code",
   "execution_count": 6,
   "id": "ad6eed04",
   "metadata": {},
   "outputs": [],
   "source": [
    "def clean_description(description):\n",
    "    \n",
    "    # Remove all the special characters\n",
    "    description = re.sub(r'\\W', ' ', description)    \n",
    "    # remove all single characters\n",
    "    description = re.sub(r'\\s+[a-zA-Z]\\s+', ' ', description)    \n",
    "    # Remove single characters from the start\n",
    "    description = re.sub(r'\\^[a-zA-Z]\\s+', ' ', description)     \n",
    "    # Substituting multiple spaces with single space\n",
    "    description = re.sub(r'\\s+', ' ', description, flags=re.I)    \n",
    "    # Removing prefixed 'b'\n",
    "    description = re.sub(r'^b\\s+', '', description)    \n",
    "    # Converting to Lowercase\n",
    "    description = description.lower()    \n",
    "    # Lemmatization\n",
    "    description = description.split()\n",
    "    description = [stemmer.lemmatize(word) for word in description]\n",
    "    description = ' '.join(description)    \n",
    "    return description"
   ]
  },
  {
   "cell_type": "code",
   "execution_count": 7,
   "id": "454fbc7b",
   "metadata": {},
   "outputs": [],
   "source": [
    "df[\"Description\"] = df[\"Description of Event\"].apply(clean_description)"
   ]
  },
  {
   "cell_type": "code",
   "execution_count": 8,
   "id": "273a996c",
   "metadata": {},
   "outputs": [
    {
     "data": {
      "text/html": [
       "<div>\n",
       "<style scoped>\n",
       "    .dataframe tbody tr th:only-of-type {\n",
       "        vertical-align: middle;\n",
       "    }\n",
       "\n",
       "    .dataframe tbody tr th {\n",
       "        vertical-align: top;\n",
       "    }\n",
       "\n",
       "    .dataframe thead th {\n",
       "        text-align: right;\n",
       "    }\n",
       "</style>\n",
       "<table border=\"1\" class=\"dataframe\">\n",
       "  <thead>\n",
       "    <tr style=\"text-align: right;\">\n",
       "      <th></th>\n",
       "      <th>Description of Event</th>\n",
       "      <th>ACS Category</th>\n",
       "      <th>Category</th>\n",
       "      <th>Description</th>\n",
       "    </tr>\n",
       "  </thead>\n",
       "  <tbody>\n",
       "    <tr>\n",
       "      <th>0</th>\n",
       "      <td>Had a large family with all heavy bags. pick u...</td>\n",
       "      <td>Ergo - Lobby</td>\n",
       "      <td>1</td>\n",
       "      <td>had large family with all heavy bag pick up 61...</td>\n",
       "    </tr>\n",
       "    <tr>\n",
       "      <th>1</th>\n",
       "      <td>while loading bags into cart at inbound flight...</td>\n",
       "      <td>Ergo - Ramp Bags</td>\n",
       "      <td>1</td>\n",
       "      <td>while loading bag into cart at inbound flight ...</td>\n",
       "    </tr>\n",
       "    <tr>\n",
       "      <th>2</th>\n",
       "      <td>Agent was walking up and down stairs in bagroo...</td>\n",
       "      <td>Stepping Up</td>\n",
       "      <td>2</td>\n",
       "      <td>agent wa walking up and down stair in bagroom ...</td>\n",
       "    </tr>\n",
       "    <tr>\n",
       "      <th>3</th>\n",
       "      <td>On July 23, 2021 at approximately 0630, the EE...</td>\n",
       "      <td>Stepping Up</td>\n",
       "      <td>2</td>\n",
       "      <td>on july 23 2021 at approximately 0630 the ee w...</td>\n",
       "    </tr>\n",
       "    <tr>\n",
       "      <th>4</th>\n",
       "      <td>Agent was assisting a passenger deplaning from...</td>\n",
       "      <td>Stepping Down</td>\n",
       "      <td>2</td>\n",
       "      <td>agent wa assisting passenger deplaning from re...</td>\n",
       "    </tr>\n",
       "  </tbody>\n",
       "</table>\n",
       "</div>"
      ],
      "text/plain": [
       "                                Description of Event      ACS Category  \\\n",
       "0  Had a large family with all heavy bags. pick u...      Ergo - Lobby   \n",
       "1  while loading bags into cart at inbound flight...  Ergo - Ramp Bags   \n",
       "2  Agent was walking up and down stairs in bagroo...      Stepping Up    \n",
       "3  On July 23, 2021 at approximately 0630, the EE...       Stepping Up   \n",
       "4  Agent was assisting a passenger deplaning from...     Stepping Down   \n",
       "\n",
       "   Category                                        Description  \n",
       "0         1  had large family with all heavy bag pick up 61...  \n",
       "1         1  while loading bag into cart at inbound flight ...  \n",
       "2         2  agent wa walking up and down stair in bagroom ...  \n",
       "3         2  on july 23 2021 at approximately 0630 the ee w...  \n",
       "4         2  agent wa assisting passenger deplaning from re...  "
      ]
     },
     "execution_count": 8,
     "metadata": {},
     "output_type": "execute_result"
    }
   ],
   "source": [
    "category_mapping = {'Ergo': 1,'Others': 2}\n",
    "df.Category = [category_mapping[item] for item in df.Category]\n",
    "df.head()"
   ]
  },
  {
   "cell_type": "code",
   "execution_count": 9,
   "id": "18dd1fb8",
   "metadata": {},
   "outputs": [],
   "source": [
    "X=df['Description']\n",
    "y=df['Category']\n",
    "x_train, x_validation, y_train, y_validation = train_test_split(X, y, test_size=0.2, random_state=7)"
   ]
  },
  {
   "cell_type": "code",
   "execution_count": 10,
   "id": "84c1c5aa",
   "metadata": {},
   "outputs": [
    {
     "data": {
      "text/html": [
       "<style>#sk-container-id-1 {color: black;background-color: white;}#sk-container-id-1 pre{padding: 0;}#sk-container-id-1 div.sk-toggleable {background-color: white;}#sk-container-id-1 label.sk-toggleable__label {cursor: pointer;display: block;width: 100%;margin-bottom: 0;padding: 0.3em;box-sizing: border-box;text-align: center;}#sk-container-id-1 label.sk-toggleable__label-arrow:before {content: \"▸\";float: left;margin-right: 0.25em;color: #696969;}#sk-container-id-1 label.sk-toggleable__label-arrow:hover:before {color: black;}#sk-container-id-1 div.sk-estimator:hover label.sk-toggleable__label-arrow:before {color: black;}#sk-container-id-1 div.sk-toggleable__content {max-height: 0;max-width: 0;overflow: hidden;text-align: left;background-color: #f0f8ff;}#sk-container-id-1 div.sk-toggleable__content pre {margin: 0.2em;color: black;border-radius: 0.25em;background-color: #f0f8ff;}#sk-container-id-1 input.sk-toggleable__control:checked~div.sk-toggleable__content {max-height: 200px;max-width: 100%;overflow: auto;}#sk-container-id-1 input.sk-toggleable__control:checked~label.sk-toggleable__label-arrow:before {content: \"▾\";}#sk-container-id-1 div.sk-estimator input.sk-toggleable__control:checked~label.sk-toggleable__label {background-color: #d4ebff;}#sk-container-id-1 div.sk-label input.sk-toggleable__control:checked~label.sk-toggleable__label {background-color: #d4ebff;}#sk-container-id-1 input.sk-hidden--visually {border: 0;clip: rect(1px 1px 1px 1px);clip: rect(1px, 1px, 1px, 1px);height: 1px;margin: -1px;overflow: hidden;padding: 0;position: absolute;width: 1px;}#sk-container-id-1 div.sk-estimator {font-family: monospace;background-color: #f0f8ff;border: 1px dotted black;border-radius: 0.25em;box-sizing: border-box;margin-bottom: 0.5em;}#sk-container-id-1 div.sk-estimator:hover {background-color: #d4ebff;}#sk-container-id-1 div.sk-parallel-item::after {content: \"\";width: 100%;border-bottom: 1px solid gray;flex-grow: 1;}#sk-container-id-1 div.sk-label:hover label.sk-toggleable__label {background-color: #d4ebff;}#sk-container-id-1 div.sk-serial::before {content: \"\";position: absolute;border-left: 1px solid gray;box-sizing: border-box;top: 0;bottom: 0;left: 50%;z-index: 0;}#sk-container-id-1 div.sk-serial {display: flex;flex-direction: column;align-items: center;background-color: white;padding-right: 0.2em;padding-left: 0.2em;position: relative;}#sk-container-id-1 div.sk-item {position: relative;z-index: 1;}#sk-container-id-1 div.sk-parallel {display: flex;align-items: stretch;justify-content: center;background-color: white;position: relative;}#sk-container-id-1 div.sk-item::before, #sk-container-id-1 div.sk-parallel-item::before {content: \"\";position: absolute;border-left: 1px solid gray;box-sizing: border-box;top: 0;bottom: 0;left: 50%;z-index: -1;}#sk-container-id-1 div.sk-parallel-item {display: flex;flex-direction: column;z-index: 1;position: relative;background-color: white;}#sk-container-id-1 div.sk-parallel-item:first-child::after {align-self: flex-end;width: 50%;}#sk-container-id-1 div.sk-parallel-item:last-child::after {align-self: flex-start;width: 50%;}#sk-container-id-1 div.sk-parallel-item:only-child::after {width: 0;}#sk-container-id-1 div.sk-dashed-wrapped {border: 1px dashed gray;margin: 0 0.4em 0.5em 0.4em;box-sizing: border-box;padding-bottom: 0.4em;background-color: white;}#sk-container-id-1 div.sk-label label {font-family: monospace;font-weight: bold;display: inline-block;line-height: 1.2em;}#sk-container-id-1 div.sk-label-container {text-align: center;}#sk-container-id-1 div.sk-container {/* jupyter's `normalize.less` sets `[hidden] { display: none; }` but bootstrap.min.css set `[hidden] { display: none !important; }` so we also need the `!important` here to be able to override the default hidden behavior on the sphinx rendered scikit-learn.org. See: https://github.com/scikit-learn/scikit-learn/issues/21755 */display: inline-block !important;position: relative;}#sk-container-id-1 div.sk-text-repr-fallback {display: none;}</style><div id=\"sk-container-id-1\" class=\"sk-top-container\"><div class=\"sk-text-repr-fallback\"><pre>Pipeline(steps=[(&#x27;tfidf&#x27;,\n",
       "                 TfidfVectorizer(max_df=0.7, max_features=1500, min_df=5,\n",
       "                                 stop_words=[&#x27;i&#x27;, &#x27;me&#x27;, &#x27;my&#x27;, &#x27;myself&#x27;, &#x27;we&#x27;,\n",
       "                                             &#x27;our&#x27;, &#x27;ours&#x27;, &#x27;ourselves&#x27;, &#x27;you&#x27;,\n",
       "                                             &quot;you&#x27;re&quot;, &quot;you&#x27;ve&quot;, &quot;you&#x27;ll&quot;,\n",
       "                                             &quot;you&#x27;d&quot;, &#x27;your&#x27;, &#x27;yours&#x27;,\n",
       "                                             &#x27;yourself&#x27;, &#x27;yourselves&#x27;, &#x27;he&#x27;,\n",
       "                                             &#x27;him&#x27;, &#x27;his&#x27;, &#x27;himself&#x27;, &#x27;she&#x27;,\n",
       "                                             &quot;she&#x27;s&quot;, &#x27;her&#x27;, &#x27;hers&#x27;, &#x27;herself&#x27;,\n",
       "                                             &#x27;it&#x27;, &quot;it&#x27;s&quot;, &#x27;its&#x27;, &#x27;itself&#x27;, ...])),\n",
       "                (&#x27;clf&#x27;, LogisticRegression())])</pre><b>In a Jupyter environment, please rerun this cell to show the HTML representation or trust the notebook. <br />On GitHub, the HTML representation is unable to render, please try loading this page with nbviewer.org.</b></div><div class=\"sk-container\" hidden><div class=\"sk-item sk-dashed-wrapped\"><div class=\"sk-label-container\"><div class=\"sk-label sk-toggleable\"><input class=\"sk-toggleable__control sk-hidden--visually\" id=\"sk-estimator-id-1\" type=\"checkbox\" ><label for=\"sk-estimator-id-1\" class=\"sk-toggleable__label sk-toggleable__label-arrow\">Pipeline</label><div class=\"sk-toggleable__content\"><pre>Pipeline(steps=[(&#x27;tfidf&#x27;,\n",
       "                 TfidfVectorizer(max_df=0.7, max_features=1500, min_df=5,\n",
       "                                 stop_words=[&#x27;i&#x27;, &#x27;me&#x27;, &#x27;my&#x27;, &#x27;myself&#x27;, &#x27;we&#x27;,\n",
       "                                             &#x27;our&#x27;, &#x27;ours&#x27;, &#x27;ourselves&#x27;, &#x27;you&#x27;,\n",
       "                                             &quot;you&#x27;re&quot;, &quot;you&#x27;ve&quot;, &quot;you&#x27;ll&quot;,\n",
       "                                             &quot;you&#x27;d&quot;, &#x27;your&#x27;, &#x27;yours&#x27;,\n",
       "                                             &#x27;yourself&#x27;, &#x27;yourselves&#x27;, &#x27;he&#x27;,\n",
       "                                             &#x27;him&#x27;, &#x27;his&#x27;, &#x27;himself&#x27;, &#x27;she&#x27;,\n",
       "                                             &quot;she&#x27;s&quot;, &#x27;her&#x27;, &#x27;hers&#x27;, &#x27;herself&#x27;,\n",
       "                                             &#x27;it&#x27;, &quot;it&#x27;s&quot;, &#x27;its&#x27;, &#x27;itself&#x27;, ...])),\n",
       "                (&#x27;clf&#x27;, LogisticRegression())])</pre></div></div></div><div class=\"sk-serial\"><div class=\"sk-item\"><div class=\"sk-estimator sk-toggleable\"><input class=\"sk-toggleable__control sk-hidden--visually\" id=\"sk-estimator-id-2\" type=\"checkbox\" ><label for=\"sk-estimator-id-2\" class=\"sk-toggleable__label sk-toggleable__label-arrow\">TfidfVectorizer</label><div class=\"sk-toggleable__content\"><pre>TfidfVectorizer(max_df=0.7, max_features=1500, min_df=5,\n",
       "                stop_words=[&#x27;i&#x27;, &#x27;me&#x27;, &#x27;my&#x27;, &#x27;myself&#x27;, &#x27;we&#x27;, &#x27;our&#x27;, &#x27;ours&#x27;,\n",
       "                            &#x27;ourselves&#x27;, &#x27;you&#x27;, &quot;you&#x27;re&quot;, &quot;you&#x27;ve&quot;, &quot;you&#x27;ll&quot;,\n",
       "                            &quot;you&#x27;d&quot;, &#x27;your&#x27;, &#x27;yours&#x27;, &#x27;yourself&#x27;, &#x27;yourselves&#x27;,\n",
       "                            &#x27;he&#x27;, &#x27;him&#x27;, &#x27;his&#x27;, &#x27;himself&#x27;, &#x27;she&#x27;, &quot;she&#x27;s&quot;,\n",
       "                            &#x27;her&#x27;, &#x27;hers&#x27;, &#x27;herself&#x27;, &#x27;it&#x27;, &quot;it&#x27;s&quot;, &#x27;its&#x27;,\n",
       "                            &#x27;itself&#x27;, ...])</pre></div></div></div><div class=\"sk-item\"><div class=\"sk-estimator sk-toggleable\"><input class=\"sk-toggleable__control sk-hidden--visually\" id=\"sk-estimator-id-3\" type=\"checkbox\" ><label for=\"sk-estimator-id-3\" class=\"sk-toggleable__label sk-toggleable__label-arrow\">LogisticRegression</label><div class=\"sk-toggleable__content\"><pre>LogisticRegression()</pre></div></div></div></div></div></div></div>"
      ],
      "text/plain": [
       "Pipeline(steps=[('tfidf',\n",
       "                 TfidfVectorizer(max_df=0.7, max_features=1500, min_df=5,\n",
       "                                 stop_words=['i', 'me', 'my', 'myself', 'we',\n",
       "                                             'our', 'ours', 'ourselves', 'you',\n",
       "                                             \"you're\", \"you've\", \"you'll\",\n",
       "                                             \"you'd\", 'your', 'yours',\n",
       "                                             'yourself', 'yourselves', 'he',\n",
       "                                             'him', 'his', 'himself', 'she',\n",
       "                                             \"she's\", 'her', 'hers', 'herself',\n",
       "                                             'it', \"it's\", 'its', 'itself', ...])),\n",
       "                ('clf', LogisticRegression())])"
      ]
     },
     "execution_count": 10,
     "metadata": {},
     "output_type": "execute_result"
    }
   ],
   "source": [
    "# text vectorizer\n",
    "tfidf_vectorizer = TfidfVectorizer(max_features=1500, min_df=5, max_df=0.7, stop_words=stopwords.words('english'))\n",
    "\n",
    "# logistic Regression classifier\n",
    "lr_clf = LogisticRegression()\n",
    "\n",
    "# create pipeline object\n",
    "pipeline = Pipeline([\n",
    "    ('tfidf', tfidf_vectorizer),\n",
    "    ('clf', lr_clf)\n",
    "])\n",
    "# fit the pipeline on the training data\n",
    "pipeline.fit(x_train, y_train)"
   ]
  },
  {
   "cell_type": "code",
   "execution_count": 11,
   "id": "1fa77569",
   "metadata": {},
   "outputs": [],
   "source": [
    "# use the pipeline for predicting using test data\n",
    "predictions = pipeline.predict(x_validation)"
   ]
  },
  {
   "cell_type": "code",
   "execution_count": 50,
   "id": "7d134756",
   "metadata": {},
   "outputs": [
    {
     "name": "stdout",
     "output_type": "stream",
     "text": [
      "Accuracy score: 0.9236111111111112\n",
      "Precision score: 0.9565217391304348\n",
      "Recall score: 0.8918918918918919\n",
      "F1 score: 0.9230769230769231\n"
     ]
    }
   ],
   "source": [
    "from sklearn.metrics import accuracy_score, precision_score, recall_score, f1_score,classification_report,confusion_matrix\n",
    "print('Accuracy score: {}'.format(accuracy_score(y_validation, predictions)))\n",
    "print('Precision score: {}'.format(precision_score(y_validation, predictions)))\n",
    "print('Recall score: {}'.format(recall_score(y_validation, predictions)))\n",
    "print('F1 score: {}'.format(f1_score(y_validation, predictions)))"
   ]
  },
  {
   "cell_type": "code",
   "execution_count": 13,
   "id": "c15fd5fe",
   "metadata": {},
   "outputs": [
    {
     "name": "stdout",
     "output_type": "stream",
     "text": [
      "              precision    recall  f1-score   support\n",
      "\n",
      "           1       0.96      0.89      0.92        74\n",
      "           2       0.89      0.96      0.92        70\n",
      "\n",
      "    accuracy                           0.92       144\n",
      "   macro avg       0.92      0.92      0.92       144\n",
      "weighted avg       0.93      0.92      0.92       144\n",
      "\n"
     ]
    }
   ],
   "source": [
    "print(classification_report(y_validation,predictions))"
   ]
  },
  {
   "cell_type": "code",
   "execution_count": 51,
   "id": "3e99a6bb",
   "metadata": {},
   "outputs": [
    {
     "name": "stdout",
     "output_type": "stream",
     "text": [
      "[[66  8]\n",
      " [ 3 67]]\n"
     ]
    }
   ],
   "source": [
    "print(confusion_matrix(y_validation,predictions))"
   ]
  },
  {
   "cell_type": "code",
   "execution_count": 14,
   "id": "1faf3050",
   "metadata": {},
   "outputs": [
    {
     "data": {
      "text/plain": [
       "<function sklearn.metrics._classification.precision_score(y_true, y_pred, *, labels=None, pos_label=1, average='binary', sample_weight=None, zero_division='warn')>"
      ]
     },
     "execution_count": 14,
     "metadata": {},
     "output_type": "execute_result"
    }
   ],
   "source": [
    "precision_score"
   ]
  },
  {
   "cell_type": "code",
   "execution_count": 64,
   "id": "15f5d242",
   "metadata": {},
   "outputs": [
    {
     "data": {
      "text/html": [
       "<div>\n",
       "<style scoped>\n",
       "    .dataframe tbody tr th:only-of-type {\n",
       "        vertical-align: middle;\n",
       "    }\n",
       "\n",
       "    .dataframe tbody tr th {\n",
       "        vertical-align: top;\n",
       "    }\n",
       "\n",
       "    .dataframe thead th {\n",
       "        text-align: right;\n",
       "    }\n",
       "</style>\n",
       "<table border=\"1\" class=\"dataframe\">\n",
       "  <thead>\n",
       "    <tr style=\"text-align: right;\">\n",
       "      <th></th>\n",
       "      <th>index</th>\n",
       "      <th>Description</th>\n",
       "      <th>Category</th>\n",
       "      <th>Pred_Category</th>\n",
       "    </tr>\n",
       "  </thead>\n",
       "  <tbody>\n",
       "    <tr>\n",
       "      <th>0</th>\n",
       "      <td>186</td>\n",
       "      <td>the employee wa working at the ticket counter ...</td>\n",
       "      <td>Ergo</td>\n",
       "      <td>Ergo</td>\n",
       "    </tr>\n",
       "    <tr>\n",
       "      <th>1</th>\n",
       "      <td>496</td>\n",
       "      <td>while standing and bending he re injuried lowe...</td>\n",
       "      <td>Others</td>\n",
       "      <td>Others</td>\n",
       "    </tr>\n",
       "    <tr>\n",
       "      <th>2</th>\n",
       "      <td>320</td>\n",
       "      <td>mouhamed tall wa off uploading flight dl0438 s...</td>\n",
       "      <td>Ergo</td>\n",
       "      <td>Ergo</td>\n",
       "    </tr>\n",
       "    <tr>\n",
       "      <th>3</th>\n",
       "      <td>362</td>\n",
       "      <td>while working at gate c2 today employee wa tra...</td>\n",
       "      <td>Others</td>\n",
       "      <td>Others</td>\n",
       "    </tr>\n",
       "    <tr>\n",
       "      <th>4</th>\n",
       "      <td>609</td>\n",
       "      <td>while offloading bag from the belt loader to h...</td>\n",
       "      <td>Ergo</td>\n",
       "      <td>Ergo</td>\n",
       "    </tr>\n",
       "    <tr>\n",
       "      <th>...</th>\n",
       "      <td>...</td>\n",
       "      <td>...</td>\n",
       "      <td>...</td>\n",
       "      <td>...</td>\n",
       "    </tr>\n",
       "    <tr>\n",
       "      <th>139</th>\n",
       "      <td>390</td>\n",
       "      <td>picking up back from car after not being able ...</td>\n",
       "      <td>Ergo</td>\n",
       "      <td>Others</td>\n",
       "    </tr>\n",
       "    <tr>\n",
       "      <th>140</th>\n",
       "      <td>281</td>\n",
       "      <td>agent gene malkut had gone to the ramp with fu...</td>\n",
       "      <td>Ergo</td>\n",
       "      <td>Ergo</td>\n",
       "    </tr>\n",
       "    <tr>\n",
       "      <th>141</th>\n",
       "      <td>548</td>\n",
       "      <td>wind closed van door on right foot</td>\n",
       "      <td>Others</td>\n",
       "      <td>Others</td>\n",
       "    </tr>\n",
       "    <tr>\n",
       "      <th>142</th>\n",
       "      <td>666</td>\n",
       "      <td>agent wa loading in the belly of cr9 ac on or ...</td>\n",
       "      <td>Ergo</td>\n",
       "      <td>Ergo</td>\n",
       "    </tr>\n",
       "    <tr>\n",
       "      <th>143</th>\n",
       "      <td>271</td>\n",
       "      <td>employee wa offloading approximately 140 bag f...</td>\n",
       "      <td>Ergo</td>\n",
       "      <td>Ergo</td>\n",
       "    </tr>\n",
       "  </tbody>\n",
       "</table>\n",
       "<p>144 rows × 4 columns</p>\n",
       "</div>"
      ],
      "text/plain": [
       "     index                                        Description Category  \\\n",
       "0      186  the employee wa working at the ticket counter ...     Ergo   \n",
       "1      496  while standing and bending he re injuried lowe...   Others   \n",
       "2      320  mouhamed tall wa off uploading flight dl0438 s...     Ergo   \n",
       "3      362  while working at gate c2 today employee wa tra...   Others   \n",
       "4      609  while offloading bag from the belt loader to h...     Ergo   \n",
       "..     ...                                                ...      ...   \n",
       "139    390  picking up back from car after not being able ...     Ergo   \n",
       "140    281  agent gene malkut had gone to the ramp with fu...     Ergo   \n",
       "141    548                 wind closed van door on right foot   Others   \n",
       "142    666  agent wa loading in the belly of cr9 ac on or ...     Ergo   \n",
       "143    271  employee wa offloading approximately 140 bag f...     Ergo   \n",
       "\n",
       "    Pred_Category  \n",
       "0            Ergo  \n",
       "1          Others  \n",
       "2            Ergo  \n",
       "3          Others  \n",
       "4            Ergo  \n",
       "..            ...  \n",
       "139        Others  \n",
       "140          Ergo  \n",
       "141        Others  \n",
       "142          Ergo  \n",
       "143          Ergo  \n",
       "\n",
       "[144 rows x 4 columns]"
      ]
     },
     "execution_count": 64,
     "metadata": {},
     "output_type": "execute_result"
    }
   ],
   "source": [
    "df_results=pd.concat([x_validation,y_validation],axis=1).reset_index()\n",
    "df_results['Pred_Category']=predictions\n",
    "df_results['Category'] = df_results['Category'].map({1:'Ergo',2:'Others'})\n",
    "df_results['Pred_Category'] = df_results['Pred_Category'].map({1:'Ergo',2:'Others'})\n",
    "df_results"
   ]
  },
  {
   "cell_type": "code",
   "execution_count": null,
   "id": "aac574fc",
   "metadata": {},
   "outputs": [],
   "source": []
  }
 ],
 "metadata": {
  "kernelspec": {
   "display_name": "Python 3 (ipykernel)",
   "language": "python",
   "name": "python3"
  },
  "language_info": {
   "codemirror_mode": {
    "name": "ipython",
    "version": 3
   },
   "file_extension": ".py",
   "mimetype": "text/x-python",
   "name": "python",
   "nbconvert_exporter": "python",
   "pygments_lexer": "ipython3",
   "version": "3.10.5"
  }
 },
 "nbformat": 4,
 "nbformat_minor": 5
}
